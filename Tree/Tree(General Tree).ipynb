{
 "cells": [
  {
   "cell_type": "markdown",
   "id": "edb4a909",
   "metadata": {},
   "source": [
    "<img src=\"https://runestone.academy/ns/books/published/pythonds/_images/htmltree.png\" width=\"400px\">\n",
    "This is a tree data structure where each of these entities in the tree are called nodes and the top node is called the root node. The intermediate nodes are just called nodes and the entities which doesn't have any children or subcategories are called leaf nodes.<br>\n",
    "In this image \"head\" is parent node and it's child nodes are \"meta\" and \"title\" <br>\n",
    "For \"ul\", \"body\" and \"html\" will be called ancestors<br>\n",
    "For \"html\", \"body\" and \"ul\" will be called descendants<br> \n",
    "Another term that we use in tree data structure is levels. In this tree we have three levels. \"html\" is in Level 0, \"head\" and \"body\" are in Level 1 and others are stay in Level 2<br>\n",
    "This is a general tree, not a binary tree because in the tree the parent will not have at max two children<br>"
   ]
  },
  {
   "cell_type": "code",
   "execution_count": 17,
   "id": "cf9c5e86",
   "metadata": {},
   "outputs": [],
   "source": [
    "class TreeNode:\n",
    "    def __init__(self,data):\n",
    "        self.data = data\n",
    "        self.children = []\n",
    "        self.parent = None\n",
    "        \n",
    "    def add_child(self,child):\n",
    "        child.parent = self\n",
    "        self.children.append(child)\n",
    "        \n",
    "    def print_tree(self):\n",
    "        print(self.data)\n",
    "        for child in self.children:\n",
    "            print(child.data)    "
   ]
  },
  {
   "cell_type": "code",
   "execution_count": 33,
   "id": "72057603",
   "metadata": {},
   "outputs": [],
   "source": [
    "def build_product_tree():\n",
    "    root = TreeNode(\"Electronics\")\n",
    "    \n",
    "    laptop = TreeNode(\"Laptop\")\n",
    "    laptop.add_child(TreeNode(\"Mac\"))\n",
    "    laptop.add_child(TreeNode(\"Surface\"))\n",
    "    laptop.add_child(TreeNode(\"Thinkpad\"))\n",
    "    \n",
    "    cellphone = TreeNode(\"Cell Phone\")\n",
    "    cellphone.add_child(TreeNode(\"iPhone\"))\n",
    "    cellphone.add_child(TreeNode(\"Google Pixel\"))\n",
    "    cellphone.add_child(TreeNode(\"Viva\"))\n",
    "    \n",
    "    tv = TreeNode(\"TV\")\n",
    "    tv.add_child(TreeNode(\"Samsung\"))\n",
    "    tv.add_child(TreeNode(\"LG\"))\n",
    "    \n",
    "    root.add_child(laptop)\n",
    "    root.add_child(cellphone)\n",
    "    root.add_child(tv)\n",
    "    \n",
    "    return root"
   ]
  },
  {
   "cell_type": "code",
   "execution_count": 19,
   "id": "e41d5bdd",
   "metadata": {},
   "outputs": [
    {
     "name": "stdout",
     "output_type": "stream",
     "text": [
      "Electronics\n",
      "Laptop\n",
      "Cell Phone\n",
      "TV\n"
     ]
    }
   ],
   "source": [
    "root = build_product_tree()\n",
    "root.print_tree()"
   ]
  },
  {
   "cell_type": "markdown",
   "id": "c144ed2b",
   "metadata": {},
   "source": [
    "We want to see other levels of the tree. for this we need to use recursive function"
   ]
  },
  {
   "cell_type": "code",
   "execution_count": 23,
   "id": "9658b1c4",
   "metadata": {},
   "outputs": [],
   "source": [
    "class TreeNode:\n",
    "    def __init__(self,data):\n",
    "        self.data = data\n",
    "        self.children = []\n",
    "        self.parent = None\n",
    "        \n",
    "    def add_child(self,child):\n",
    "        child.parent = self\n",
    "        self.children.append(child)\n",
    "        \n",
    "    def print_tree(self):\n",
    "        print(self.data)\n",
    "        if self.children:\n",
    "            for child in self.children:\n",
    "                child.print_tree()  "
   ]
  },
  {
   "cell_type": "code",
   "execution_count": 24,
   "id": "5d87944d",
   "metadata": {},
   "outputs": [
    {
     "name": "stdout",
     "output_type": "stream",
     "text": [
      "Electronics\n",
      "Laptop\n",
      "Mac\n",
      "Surface\n",
      "Thinkpad\n",
      "Cell Phone\n",
      "iPhone\n",
      "Google Pixel\n",
      "Viva\n",
      "TV\n",
      "Samsung\n",
      "LG\n"
     ]
    }
   ],
   "source": [
    "root = build_product_tree()\n",
    "root.print_tree()"
   ]
  },
  {
   "cell_type": "markdown",
   "id": "fbd6900f",
   "metadata": {},
   "source": [
    "In this output we are not sure which is in which level. So we first find the level. For this "
   ]
  },
  {
   "cell_type": "code",
   "execution_count": 34,
   "id": "2e238fb3",
   "metadata": {},
   "outputs": [],
   "source": [
    "class TreeNode:\n",
    "    def __init__(self,data):\n",
    "        self.data = data\n",
    "        self.children = []\n",
    "        self.parent = None\n",
    "        \n",
    "    def add_child(self,child):\n",
    "        child.parent = self\n",
    "        self.children.append(child)\n",
    "        \n",
    "    def get_level(self):\n",
    "        level = 0\n",
    "        p = self.parent\n",
    "        while p:\n",
    "            level +=1\n",
    "            p = p.parent\n",
    "        return level\n",
    "        \n",
    "    def print_tree(self):\n",
    "        print(self.data)\n",
    "        if self.children:\n",
    "            for child in self.children:\n",
    "                child.print_tree()  "
   ]
  },
  {
   "cell_type": "code",
   "execution_count": 35,
   "id": "3b011813",
   "metadata": {},
   "outputs": [
    {
     "data": {
      "text/plain": [
       "0"
      ]
     },
     "execution_count": 35,
     "metadata": {},
     "output_type": "execute_result"
    }
   ],
   "source": [
    "root = build_product_tree()\n",
    "root.get_level()"
   ]
  },
  {
   "cell_type": "code",
   "execution_count": 36,
   "id": "48acabc4",
   "metadata": {},
   "outputs": [],
   "source": [
    "def build_product_tree():\n",
    "    root = TreeNode(\"Electronics\")\n",
    "    \n",
    "    laptop = TreeNode(\"Laptop\")\n",
    "    laptop.add_child(TreeNode(\"Mac\"))\n",
    "    laptop.add_child(TreeNode(\"Surface\"))\n",
    "    laptop.add_child(TreeNode(\"Thinkpad\"))\n",
    "    \n",
    "    cellphone = TreeNode(\"Cell Phone\")\n",
    "    cellphone.add_child(TreeNode(\"iPhone\"))\n",
    "    cellphone.add_child(TreeNode(\"Google Pixel\"))\n",
    "    cellphone.add_child(TreeNode(\"Viva\"))\n",
    "    \n",
    "    tv = TreeNode(\"TV\")\n",
    "    tv.add_child(TreeNode(\"Samsung\"))\n",
    "    tv.add_child(TreeNode(\"LG\"))\n",
    "    \n",
    "    root.add_child(laptop)\n",
    "    root.add_child(cellphone)\n",
    "    root.add_child(tv)\n",
    "    \n",
    "    print(tv.get_level())\n",
    "    \n",
    "    return root"
   ]
  },
  {
   "cell_type": "code",
   "execution_count": 37,
   "id": "7986d266",
   "metadata": {},
   "outputs": [
    {
     "name": "stdout",
     "output_type": "stream",
     "text": [
      "1\n"
     ]
    }
   ],
   "source": [
    "root = build_product_tree()"
   ]
  },
  {
   "cell_type": "markdown",
   "id": "d755a126",
   "metadata": {},
   "source": [
    "If we want to see Hierarchical structure then we need to add space after parent node"
   ]
  },
  {
   "cell_type": "code",
   "execution_count": 38,
   "id": "0fa61eb4",
   "metadata": {},
   "outputs": [],
   "source": [
    "class TreeNode:\n",
    "    def __init__(self,data):\n",
    "        self.data = data\n",
    "        self.children = []\n",
    "        self.parent = None\n",
    "        \n",
    "    def add_child(self,child):\n",
    "        child.parent = self\n",
    "        self.children.append(child)\n",
    "        \n",
    "    def get_level(self):\n",
    "        level = 0\n",
    "        p = self.parent\n",
    "        while p:\n",
    "            level +=1\n",
    "            p = p.parent\n",
    "        return level\n",
    "        \n",
    "    def print_tree(self):\n",
    "        space = ' ' * self.get_level()\n",
    "        \n",
    "        print(space + self.data)\n",
    "        if self.children:\n",
    "            for child in self.children:\n",
    "                child.print_tree()  "
   ]
  },
  {
   "cell_type": "code",
   "execution_count": 39,
   "id": "8ab3fa0c",
   "metadata": {},
   "outputs": [],
   "source": [
    "def build_product_tree():\n",
    "    root = TreeNode(\"Electronics\")\n",
    "    \n",
    "    laptop = TreeNode(\"Laptop\")\n",
    "    laptop.add_child(TreeNode(\"Mac\"))\n",
    "    laptop.add_child(TreeNode(\"Surface\"))\n",
    "    laptop.add_child(TreeNode(\"Thinkpad\"))\n",
    "    \n",
    "    cellphone = TreeNode(\"Cell Phone\")\n",
    "    cellphone.add_child(TreeNode(\"iPhone\"))\n",
    "    cellphone.add_child(TreeNode(\"Google Pixel\"))\n",
    "    cellphone.add_child(TreeNode(\"Viva\"))\n",
    "    \n",
    "    tv = TreeNode(\"TV\")\n",
    "    tv.add_child(TreeNode(\"Samsung\"))\n",
    "    tv.add_child(TreeNode(\"LG\"))\n",
    "    \n",
    "    root.add_child(laptop)\n",
    "    root.add_child(cellphone)\n",
    "    root.add_child(tv)\n",
    "    \n",
    "    return root"
   ]
  },
  {
   "cell_type": "code",
   "execution_count": 40,
   "id": "2d53957e",
   "metadata": {},
   "outputs": [
    {
     "name": "stdout",
     "output_type": "stream",
     "text": [
      "Electronics\n",
      " Laptop\n",
      "  Mac\n",
      "  Surface\n",
      "  Thinkpad\n",
      " Cell Phone\n",
      "  iPhone\n",
      "  Google Pixel\n",
      "  Viva\n",
      " TV\n",
      "  Samsung\n",
      "  LG\n"
     ]
    }
   ],
   "source": [
    "root = build_product_tree()\n",
    "root.print_tree()"
   ]
  },
  {
   "cell_type": "markdown",
   "id": "1026b47b",
   "metadata": {},
   "source": [
    "If we want to give this more better hierarchical looks then we need to add more space and prefix "
   ]
  },
  {
   "cell_type": "code",
   "execution_count": 41,
   "id": "2c2b36c2",
   "metadata": {},
   "outputs": [],
   "source": [
    "class TreeNode:\n",
    "    def __init__(self,data):\n",
    "        self.data = data\n",
    "        self.children = []\n",
    "        self.parent = None\n",
    "        \n",
    "    def add_child(self,child):\n",
    "        child.parent = self\n",
    "        self.children.append(child)\n",
    "        \n",
    "    def get_level(self):\n",
    "        level = 0\n",
    "        p = self.parent\n",
    "        while p:\n",
    "            level +=1\n",
    "            p = p.parent\n",
    "        return level\n",
    "        \n",
    "    def print_tree(self):\n",
    "        space = ' ' * self.get_level() *3 #adding more space\n",
    "        if self.parent:\n",
    "            prefix = space + \"|__\"\n",
    "        else:\n",
    "            prefix = space\n",
    "        \n",
    "        print(prefix + self.data)\n",
    "        if self.children:\n",
    "            for child in self.children:\n",
    "                child.print_tree()  "
   ]
  },
  {
   "cell_type": "code",
   "execution_count": 42,
   "id": "96200f7c",
   "metadata": {},
   "outputs": [
    {
     "name": "stdout",
     "output_type": "stream",
     "text": [
      "Electronics\n",
      "   |__Laptop\n",
      "      |__Mac\n",
      "      |__Surface\n",
      "      |__Thinkpad\n",
      "   |__Cell Phone\n",
      "      |__iPhone\n",
      "      |__Google Pixel\n",
      "      |__Viva\n",
      "   |__TV\n",
      "      |__Samsung\n",
      "      |__LG\n"
     ]
    }
   ],
   "source": [
    "root = build_product_tree()\n",
    "root.print_tree()"
   ]
  },
  {
   "cell_type": "code",
   "execution_count": null,
   "id": "34977ee1",
   "metadata": {},
   "outputs": [],
   "source": []
  }
 ],
 "metadata": {
  "kernelspec": {
   "display_name": "Python 3 (ipykernel)",
   "language": "python",
   "name": "python3"
  },
  "language_info": {
   "codemirror_mode": {
    "name": "ipython",
    "version": 3
   },
   "file_extension": ".py",
   "mimetype": "text/x-python",
   "name": "python",
   "nbconvert_exporter": "python",
   "pygments_lexer": "ipython3",
   "version": "3.9.6"
  }
 },
 "nbformat": 4,
 "nbformat_minor": 5
}
