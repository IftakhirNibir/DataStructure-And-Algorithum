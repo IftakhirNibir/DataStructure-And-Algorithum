{
 "cells": [
  {
   "cell_type": "code",
   "execution_count": 94,
   "id": "520c2f9d",
   "metadata": {},
   "outputs": [],
   "source": [
    "class TreeNode:\n",
    "    def __init__(self,name,designation):\n",
    "        self.name = name\n",
    "        self.designation = designation\n",
    "        self.children = []\n",
    "        self.parent = None\n",
    "        \n",
    "    def add_child(self,child):\n",
    "        child.parent = self\n",
    "        self.children.append(child)\n",
    "        \n",
    "    def get_level(self):\n",
    "        level = 0 \n",
    "        p = self.parent\n",
    "        while p:\n",
    "            level +=1\n",
    "            p = p.parent\n",
    "        return level\n",
    "    \n",
    "    def print_tree(self,key):\n",
    "        space = \" \" * self.get_level() * 3\n",
    "        \n",
    "        if self.parent:\n",
    "            prefix = space + \"|__\"\n",
    "        else:\n",
    "            prefix = space\n",
    "            \n",
    "        if key == \"name\":\n",
    "            print(prefix + self.name)\n",
    "        elif key == \"designation\":\n",
    "            print(prefix + self.designation)\n",
    "        else:\n",
    "            print(prefix + f\"{self.name} ({self.designation})\")\n",
    "        \n",
    "        if self.children:\n",
    "            for child in self.children:\n",
    "                child.print_tree(key)"
   ]
  },
  {
   "cell_type": "code",
   "execution_count": 107,
   "id": "012300c0",
   "metadata": {},
   "outputs": [],
   "source": [
    "def bulid_full_tree():\n",
    "    root = TreeNode(\"Nilupul\",\"CEO\")\n",
    "    \n",
    "    chinmay = TreeNode(\"Chinmay\",\"CTO\")\n",
    "    vishwa = TreeNode(\"Vishwa\",\"Infrastructure Head\")\n",
    "    vishwa.add_child(TreeNode(\"Dhaval\",\"Cloud Manager\"))\n",
    "    vishwa.add_child(TreeNode(\"Abhijit\",\"App Manager\"))\n",
    "    \n",
    "    chinmay.add_child(vishwa)\n",
    "    chinmay.add_child(TreeNode(\"Aamir\",\"Application Head\"))\n",
    "    \n",
    "    gels = TreeNode(\"Gels\",\"HR Head\")\n",
    "    gels.add_child(TreeNode(\"Peter\",\"Recruitment Manager\"))\n",
    "    gels.add_child(TreeNode(\"Waqas\",\"Policy Manager\"))\n",
    "    \n",
    "    root.add_child(chinmay)\n",
    "    root.add_child(gels)\n",
    "                   \n",
    "    return root"
   ]
  },
  {
   "cell_type": "code",
   "execution_count": 111,
   "id": "c15ab91f",
   "metadata": {},
   "outputs": [
    {
     "name": "stdout",
     "output_type": "stream",
     "text": [
      "Nilupul (CEO)\n",
      "   |__Chinmay (CTO)\n",
      "      |__Vishwa (Infrastructure Head)\n",
      "         |__Dhaval (Cloud Manager)\n",
      "         |__Abhijit (App Manager)\n",
      "      |__Aamir (Application Head)\n",
      "   |__Gels (HR Head)\n",
      "      |__Peter (Recruitment Manager)\n",
      "      |__Waqas (Policy Manager)\n"
     ]
    }
   ],
   "source": [
    "a = bulid_full_tree()\n",
    "a.print_tree(\"both\")"
   ]
  },
  {
   "cell_type": "code",
   "execution_count": 279,
   "id": "80a446e4",
   "metadata": {},
   "outputs": [],
   "source": [
    "class TreeNode:\n",
    "    def __init__(self,name):\n",
    "        self.name = name\n",
    "        self.children = []\n",
    "        self.parent = None\n",
    "        \n",
    "    def add_child(self,child):\n",
    "        child.parent = self\n",
    "        self.children.append(child)\n",
    "        \n",
    "    def get_level(self):\n",
    "        level = 0 \n",
    "        p = self.parent\n",
    "        while p:\n",
    "            level +=1\n",
    "            p = p.parent\n",
    "        return level\n",
    "\n",
    "    \n",
    "    def print_tree(self,level):\n",
    "        if self.get_level() > level:  #This line checks if the current level of the tree is greater than the level we want \n",
    "            return \n",
    "        #to print up to. If it is, the function stops running. This is to prevent the function from printing \n",
    "        #too much of the tree\n",
    "        \n",
    "        space = \" \" * self.get_level() * 3\n",
    "        if self.parent:\n",
    "            prefix = space + \"|__\"\n",
    "        else:\n",
    "            prefix = space\n",
    "        print(prefix + self.name)\n",
    "    \n",
    "                \n",
    "        if self.children:\n",
    "            for child in self.children:\n",
    "                child.print_tree(level)"
   ]
  },
  {
   "cell_type": "code",
   "execution_count": 280,
   "id": "6cf444c7",
   "metadata": {},
   "outputs": [],
   "source": [
    "def bulid_full_tree():\n",
    "    root = TreeNode(\"Global\")\n",
    "    \n",
    "    india = TreeNode(\"India\")\n",
    "    \n",
    "    gujarat = TreeNode(\"Gujarat\")\n",
    "    gujarat.add_child(TreeNode(\"Ahmedabad\"))\n",
    "    gujarat.add_child(TreeNode(\"Baroda\"))\n",
    "    \n",
    "    karnataka = TreeNode(\"Karnataka\")\n",
    "    karnataka.add_child(TreeNode(\"Bangluru\"))\n",
    "    karnataka.add_child(TreeNode(\"Mysore\"))\n",
    "    \n",
    "    india.add_child(gujarat)\n",
    "    india.add_child(karnataka)\n",
    "    \n",
    "    usa = TreeNode(\"USA\")\n",
    "    \n",
    "    new_jersey = TreeNode(\"New Jersey\")\n",
    "    new_jersey.add_child(TreeNode(\"Princeton\"))\n",
    "    new_jersey.add_child(TreeNode(\"Trenton\"))\n",
    "    \n",
    "    california = TreeNode(\"California\")\n",
    "    california.add_child(TreeNode(\"San Francisco\"))\n",
    "    california.add_child(TreeNode(\"Mountain View\"))\n",
    "    california.add_child(TreeNode(\"Palo Alto\"))\n",
    "    \n",
    "    usa.add_child(new_jersey)\n",
    "    usa.add_child(california)\n",
    "    \n",
    "    root.add_child(india)\n",
    "    root.add_child(usa)\n",
    "                   \n",
    "    return root"
   ]
  },
  {
   "cell_type": "code",
   "execution_count": 281,
   "id": "844aa5ab",
   "metadata": {},
   "outputs": [
    {
     "name": "stdout",
     "output_type": "stream",
     "text": [
      "Global\n",
      "   |__India\n",
      "      |__Gujarat\n",
      "      |__Karnataka\n",
      "   |__USA\n",
      "      |__New Jersey\n",
      "      |__California\n"
     ]
    }
   ],
   "source": [
    "a = bulid_full_tree()\n",
    "a.print_tree(2)"
   ]
  },
  {
   "cell_type": "code",
   "execution_count": null,
   "id": "d15b1fdf",
   "metadata": {},
   "outputs": [],
   "source": []
  },
  {
   "cell_type": "code",
   "execution_count": null,
   "id": "3ee0d333",
   "metadata": {},
   "outputs": [],
   "source": []
  }
 ],
 "metadata": {
  "kernelspec": {
   "display_name": "Python 3 (ipykernel)",
   "language": "python",
   "name": "python3"
  },
  "language_info": {
   "codemirror_mode": {
    "name": "ipython",
    "version": 3
   },
   "file_extension": ".py",
   "mimetype": "text/x-python",
   "name": "python",
   "nbconvert_exporter": "python",
   "pygments_lexer": "ipython3",
   "version": "3.9.6"
  }
 },
 "nbformat": 4,
 "nbformat_minor": 5
}
