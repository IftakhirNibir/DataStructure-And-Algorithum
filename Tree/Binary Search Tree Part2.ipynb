{
 "cells": [
  {
   "cell_type": "markdown",
   "id": "b16972b4",
   "metadata": {},
   "source": [
    "<u> Basic Property of a Binary Tree:</u>\n",
    "<li>All the elements should be unique</li>\n",
    "<li>The left subtree should have a value less than the current node value and all the elements in the right subtree should have a value greater than the current value</li>\n",
    "\n",
    "<u>There are three diffferent cases to delete a node from binary tree.</u><br>\n",
    "<li>1. Delete node with no child(leaf node)</li>\n",
    "<li>2. Delete node which has one child. In this case we need to remove the node and replace this with the child</li>\n",
    "<li>3. Delete node with two subtree. In this case we need to look into our right subtree and find the minimum value from the right subtree and copy the minimum value and paste it in that node. Once I copy that I can just remove the duplicates. There is an alternate approach. We can also look into left subtree. In this case we need to find maximum value from the left subtree and than copy the maximum value and paste it in that node. Once I copied that then I remove the duplicates.</li>"
   ]
  },
  {
   "cell_type": "code",
   "execution_count": 1,
   "id": "a3f09dbe",
   "metadata": {},
   "outputs": [],
   "source": [
    "class BinarySearchTreeNode:\n",
    "    def __init__(self, data):\n",
    "        self.data = data\n",
    "        self.left = None\n",
    "        self.right = None\n",
    "\n",
    "    def add_child(self, data):\n",
    "        if data == self.data:\n",
    "            return # node already exist\n",
    "\n",
    "        if data < self.data:\n",
    "            if self.left:\n",
    "                self.left.add_child(data)\n",
    "            else:\n",
    "                self.left = BinarySearchTreeNode(data)\n",
    "        else:\n",
    "            if self.right:\n",
    "                self.right.add_child(data)\n",
    "            else:\n",
    "                self.right = BinarySearchTreeNode(data)\n",
    "\n",
    "\n",
    "    def search(self, val):\n",
    "        if self.data == val:\n",
    "            return True\n",
    "\n",
    "        if val < self.data:\n",
    "            if self.left:\n",
    "                return self.left.search(val)\n",
    "            else:\n",
    "                return False\n",
    "\n",
    "        if val > self.data:\n",
    "            if self.right:\n",
    "                return self.right.search(val)\n",
    "            else:\n",
    "                return False\n",
    "\n",
    "    def in_order_traversal(self):\n",
    "        elements = []\n",
    "        if self.left:\n",
    "            elements += self.left.in_order_traversal()\n",
    "\n",
    "        elements.append(self.data)\n",
    "\n",
    "        if self.right:\n",
    "            elements += self.right.in_order_traversal()\n",
    "\n",
    "        return elements\n",
    "    \n",
    "    def find_min(self):\n",
    "        if self.left:\n",
    "            return self.left.find_min()\n",
    "        else:\n",
    "            return self.data\n",
    "        \n",
    "    def find_max(self):\n",
    "        if self.right:\n",
    "            return self.right.find_max()\n",
    "        else:\n",
    "            return self.data\n",
    "        \n",
    "    def calculate_sum(self):\n",
    "        total_sum = 0\n",
    "        if self.left:\n",
    "            total_sum +=self.left.calculate_sum()\n",
    "        \n",
    "        total_sum += self.data\n",
    "        \n",
    "        if self.right:\n",
    "            total_sum += self.right.calculate_sum()\n",
    "            \n",
    "        return total_sum\n",
    "    \n",
    "    def post_order_traversal(self):\n",
    "        elements = []\n",
    "        \n",
    "        if self.left:\n",
    "            elements += self.left.post_order_traversal()\n",
    "            \n",
    "        if self.right:\n",
    "            elements += self.right.post_order_traversal()\n",
    "            \n",
    "        elements.append(self.data)\n",
    "        \n",
    "        return elements\n",
    "        \n",
    "    def pre_order_traversal(self):\n",
    "        elements = []\n",
    "        \n",
    "        elements.append(self.data)\n",
    "            \n",
    "        if self.left:\n",
    "            elements += self.left.post_order_traversal()\n",
    "            \n",
    "        if self.right:\n",
    "            elements += self.right.post_order_traversal()\n",
    "        \n",
    "        return elements      \n",
    "    \n",
    "    def delete(self,val):\n",
    "        if val < self.data:\n",
    "            if self.left:\n",
    "                self.left = self.left.delete(val)\n",
    "        elif val > self.data:\n",
    "            if self.right:\n",
    "                self.right = self.right.delete(val)\n",
    "        else:\n",
    "            if self.left is None and self.right is None: #If the node is a leaf node \n",
    "                return None\n",
    "            elif self.left is None: #If the node to be deleted doesn't have a left child, then its right child replaces it\n",
    "                return self.right \n",
    "            elif self.right is None:\n",
    "                return self.left\n",
    "            \n",
    "            min_val = self.right.find_min()\n",
    "            self.data = min_val \n",
    "            self.right = self.right.delete(min_val)\n",
    "            \n",
    "        return self"
   ]
  },
  {
   "cell_type": "code",
   "execution_count": 2,
   "id": "2ce7845c",
   "metadata": {},
   "outputs": [],
   "source": [
    "def build_tree(a):\n",
    "    root = BinarySearchTreeNode(a[0])\n",
    "    \n",
    "    for i in range(1,len(a)):\n",
    "        root.add_child(a[i])\n",
    "    \n",
    "    return root"
   ]
  },
  {
   "cell_type": "code",
   "execution_count": 3,
   "id": "c67388c0",
   "metadata": {},
   "outputs": [
    {
     "name": "stdout",
     "output_type": "stream",
     "text": [
      "7\n"
     ]
    }
   ],
   "source": [
    "numbers_tree = build_tree([15, 12, 7, 14, 27, 20, 23, 88])\n",
    "print(numbers_tree.find_min())"
   ]
  },
  {
   "cell_type": "code",
   "execution_count": 4,
   "id": "7578591f",
   "metadata": {},
   "outputs": [
    {
     "name": "stdout",
     "output_type": "stream",
     "text": [
      "[7, 12, 14, 15, 20, 23, 27, 88]\n"
     ]
    }
   ],
   "source": [
    "print(numbers_tree.in_order_traversal())"
   ]
  },
  {
   "cell_type": "code",
   "execution_count": 5,
   "id": "4140d319",
   "metadata": {},
   "outputs": [
    {
     "name": "stdout",
     "output_type": "stream",
     "text": [
      "[7, 12, 15, 20, 23, 27, 88]\n"
     ]
    }
   ],
   "source": [
    "numbers_tree.delete(14)\n",
    "print(numbers_tree.in_order_traversal())"
   ]
  },
  {
   "cell_type": "code",
   "execution_count": 6,
   "id": "0c60e7af",
   "metadata": {},
   "outputs": [
    {
     "name": "stdout",
     "output_type": "stream",
     "text": [
      "[7, 12, 15, 20, 23, 88]\n"
     ]
    }
   ],
   "source": [
    "numbers_tree.delete(27)\n",
    "print(numbers_tree.in_order_traversal())"
   ]
  },
  {
   "cell_type": "code",
   "execution_count": 7,
   "id": "98a05e97",
   "metadata": {},
   "outputs": [
    {
     "name": "stdout",
     "output_type": "stream",
     "text": [
      "[7, 12, 20, 23, 88]\n"
     ]
    }
   ],
   "source": [
    "numbers_tree.delete(15)\n",
    "print(numbers_tree.in_order_traversal())"
   ]
  },
  {
   "cell_type": "code",
   "execution_count": 8,
   "id": "98b91764",
   "metadata": {},
   "outputs": [
    {
     "name": "stdout",
     "output_type": "stream",
     "text": [
      "[12, 20, 23, 88]\n"
     ]
    }
   ],
   "source": [
    "numbers_tree.delete(7)\n",
    "print(numbers_tree.in_order_traversal())"
   ]
  },
  {
   "cell_type": "code",
   "execution_count": 9,
   "id": "1b0b40cd",
   "metadata": {},
   "outputs": [
    {
     "name": "stdout",
     "output_type": "stream",
     "text": [
      "[12, 20, 23]\n"
     ]
    }
   ],
   "source": [
    "numbers_tree.delete(88)\n",
    "print(numbers_tree.in_order_traversal())"
   ]
  },
  {
   "cell_type": "code",
   "execution_count": 10,
   "id": "779f9f1a",
   "metadata": {},
   "outputs": [],
   "source": [
    "class BinarySearchTreeNode:\n",
    "    def __init__(self, data):\n",
    "        self.data = data\n",
    "        self.left = None\n",
    "        self.right = None\n",
    "\n",
    "    def add_child(self, data):\n",
    "        if data == self.data:\n",
    "            return # node already exist\n",
    "\n",
    "        if data < self.data:\n",
    "            if self.left:\n",
    "                self.left.add_child(data)\n",
    "            else:\n",
    "                self.left = BinarySearchTreeNode(data)\n",
    "        else:\n",
    "            if self.right:\n",
    "                self.right.add_child(data)\n",
    "            else:\n",
    "                self.right = BinarySearchTreeNode(data)\n",
    "\n",
    "\n",
    "    def search(self, val):\n",
    "        if self.data == val:\n",
    "            return True\n",
    "\n",
    "        if val < self.data:\n",
    "            if self.left:\n",
    "                return self.left.search(val)\n",
    "            else:\n",
    "                return False\n",
    "\n",
    "        if val > self.data:\n",
    "            if self.right:\n",
    "                return self.right.search(val)\n",
    "            else:\n",
    "                return False\n",
    "\n",
    "    def in_order_traversal(self):\n",
    "        elements = []\n",
    "        if self.left:\n",
    "            elements += self.left.in_order_traversal()\n",
    "\n",
    "        elements.append(self.data)\n",
    "\n",
    "        if self.right:\n",
    "            elements += self.right.in_order_traversal()\n",
    "\n",
    "        return elements\n",
    "    \n",
    "    def find_min(self):\n",
    "        if self.left:\n",
    "            return self.left.find_min()\n",
    "        else:\n",
    "            return self.data\n",
    "        \n",
    "    def find_max(self):\n",
    "        if self.right:\n",
    "            return self.right.find_max()\n",
    "        else:\n",
    "            return self.data\n",
    "        \n",
    "    def calculate_sum(self):\n",
    "        total_sum = 0\n",
    "        if self.left:\n",
    "            total_sum +=self.left.calculate_sum()\n",
    "        \n",
    "        total_sum += self.data\n",
    "        \n",
    "        if self.right:\n",
    "            total_sum += self.right.calculate_sum()\n",
    "            \n",
    "        return total_sum\n",
    "    \n",
    "    def post_order_traversal(self):\n",
    "        elements = []\n",
    "        \n",
    "        if self.left:\n",
    "            elements += self.left.post_order_traversal()\n",
    "            \n",
    "        if self.right:\n",
    "            elements += self.right.post_order_traversal()\n",
    "            \n",
    "        elements.append(self.data)\n",
    "        \n",
    "        return elements\n",
    "        \n",
    "    def pre_order_traversal(self):\n",
    "        elements = []\n",
    "        \n",
    "        elements.append(self.data)\n",
    "            \n",
    "        if self.left:\n",
    "            elements += self.left.post_order_traversal()\n",
    "            \n",
    "        if self.right:\n",
    "            elements += self.right.post_order_traversal()\n",
    "        \n",
    "        return elements      \n",
    "    \n",
    "    def delete(self,val):\n",
    "        if val < self.data:\n",
    "            if self.left:\n",
    "                self.left = self.left.delete(val)\n",
    "        elif val > self.data:\n",
    "            if self.right:\n",
    "                self.right = self.right.delete(val)\n",
    "        else:\n",
    "            if self.left is None and self.right is None:\n",
    "                return None\n",
    "            elif self.left is None:\n",
    "                return self.right\n",
    "            elif self.right is None:\n",
    "                return self.left\n",
    "            \n",
    "            max_value = self.left.find_max()\n",
    "            self.data = max_value\n",
    "            self.left = self.left.delete(max_value)\n",
    "            \n",
    "        return self"
   ]
  },
  {
   "cell_type": "code",
   "execution_count": 11,
   "id": "c76ed6e9",
   "metadata": {},
   "outputs": [],
   "source": [
    "def build_tree(elements):\n",
    "    print(\"Building tree with these elements:\",elements)\n",
    "    root = BinarySearchTreeNode(elements[0])\n",
    "\n",
    "    for i in range(1,len(elements)):\n",
    "        root.add_child(elements[i])\n",
    "\n",
    "    return root"
   ]
  },
  {
   "cell_type": "code",
   "execution_count": 12,
   "id": "492229dc",
   "metadata": {},
   "outputs": [
    {
     "name": "stdout",
     "output_type": "stream",
     "text": [
      "Building tree with these elements: [17, 4, 1, 20, 9, 23, 18, 34]\n",
      "After deleting 20  [1, 4, 9, 17, 18, 23, 34]\n",
      "Building tree with these elements: [17, 4, 1, 20, 9, 23, 18, 34]\n",
      "After deleting 9  [1, 4, 17, 18, 20, 23, 34]\n",
      "Building tree with these elements: [17, 4, 1, 20, 9, 23, 18, 34]\n",
      "After deleting 17  [1, 4, 9, 18, 20, 23, 34]\n"
     ]
    }
   ],
   "source": [
    "numbers_tree = build_tree([17, 4, 1, 20, 9, 23, 18, 34])\n",
    "numbers_tree.delete(20)\n",
    "print(\"After deleting 20 \",numbers_tree.in_order_traversal()) # this should print [1, 4, 9, 17, 18, 23, 34]\n",
    "\n",
    "numbers_tree = build_tree([17, 4, 1, 20, 9, 23, 18, 34])\n",
    "numbers_tree.delete(9)\n",
    "print(\"After deleting 9 \",numbers_tree.in_order_traversal())  # this should print [1, 4, 17, 18, 20, 23, 34]\n",
    "\n",
    "numbers_tree = build_tree([17, 4, 1, 20, 9, 23, 18, 34])\n",
    "numbers_tree.delete(17)\n",
    "print(\"After deleting 17 \",numbers_tree.in_order_traversal()) "
   ]
  },
  {
   "cell_type": "code",
   "execution_count": null,
   "id": "918c40a4",
   "metadata": {},
   "outputs": [],
   "source": []
  }
 ],
 "metadata": {
  "kernelspec": {
   "display_name": "Python 3 (ipykernel)",
   "language": "python",
   "name": "python3"
  },
  "language_info": {
   "codemirror_mode": {
    "name": "ipython",
    "version": 3
   },
   "file_extension": ".py",
   "mimetype": "text/x-python",
   "name": "python",
   "nbconvert_exporter": "python",
   "pygments_lexer": "ipython3",
   "version": "3.9.6"
  }
 },
 "nbformat": 4,
 "nbformat_minor": 5
}
