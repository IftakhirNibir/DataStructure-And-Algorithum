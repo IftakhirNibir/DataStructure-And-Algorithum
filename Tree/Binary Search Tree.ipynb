{
 "cells": [
  {
   "cell_type": "markdown",
   "id": "4761986e",
   "metadata": {},
   "source": [
    "<img src=\"https://static.javatpoint.com/ds/images/binary-search-tree1.png\">\n",
    "Binary tree has atmost two child.<br>\n",
    "Binary Search tree is a special case of binary tree where the elements have some kind of order. The order is all the nodes on the left-hand side of this root node has value less than this particular node and the value of right-hand-side are greater then this particular node. Another property is, elements are not duplicated. It will not insert a duplicate, the elements are always unique"
   ]
  },
  {
   "cell_type": "markdown",
   "id": "2aa1e4b9",
   "metadata": {},
   "source": [
    "<u>Search complexity:</u><br>\n",
    "Every iteration we reduce search space by 1/2<br>\n",
    "n = 8  &#160;&#160;&#160;&#160;&#160;&#160;&#160;&#160;&#160;&#160; 8-> 4-> 2-> 1\n",
    "3 iterations<br>\n",
    "log<sub>2</sub> 8 = 3 <br>\n",
    "Search Complexity = O(log n)"
   ]
  },
  {
   "cell_type": "markdown",
   "id": "68ea05cf",
   "metadata": {},
   "source": [
    "Insert Complexity = O(log n)"
   ]
  },
  {
   "cell_type": "markdown",
   "id": "1ffe52af",
   "metadata": {},
   "source": [
    "<u>Searching</u>\n",
    "There are two approach for searching Binary Tree. These are also called traversal techniques\n",
    "<li>Breadth first search</li>\n",
    "<li>Depth first search</li>\n",
    "&#160;&#160;&#160;&#160; - In order traversal: left,root,right<br>\n",
    "&#160;&#160;&#160;&#160; - Pre order traversal: root,left,right<br>\n",
    "&#160;&#160;&#160;&#160; - Post order traversal:\n",
    "left,right,root"
   ]
  },
  {
   "cell_type": "markdown",
   "id": "f40ec444",
   "metadata": {},
   "source": [
    "One of the utilities of binary search tree is to sort the elements in the list. Other utility is to implement set type of class where the elements are unique"
   ]
  },
  {
   "cell_type": "markdown",
   "id": "db0a7c48",
   "metadata": {},
   "source": [
    "<u>Implementation:</u>"
   ]
  },
  {
   "cell_type": "code",
   "execution_count": 25,
   "id": "c09eb996",
   "metadata": {},
   "outputs": [],
   "source": [
    "class BinarySearchTreeNode:\n",
    "    def __init__(self, data):\n",
    "        self.data = data\n",
    "        self.left = None\n",
    "        self.right = None\n",
    "\n",
    "    def add_child(self, data):\n",
    "        if data == self.data:\n",
    "            return # node already exist\n",
    "\n",
    "        if data < self.data:\n",
    "            if self.left:\n",
    "                self.left.add_child(data)\n",
    "            else:\n",
    "                self.left = BinarySearchTreeNode(data)\n",
    "        else:\n",
    "            if self.right:\n",
    "                self.right.add_child(data)\n",
    "            else:\n",
    "                self.right = BinarySearchTreeNode(data)\n",
    "\n",
    "\n",
    "    def search(self, val):\n",
    "        if self.data == val:\n",
    "            return True\n",
    "\n",
    "        if val < self.data:\n",
    "            if self.left:\n",
    "                return self.left.search(val)\n",
    "            else:\n",
    "                return False\n",
    "\n",
    "        if val > self.data:\n",
    "            if self.right:\n",
    "                return self.right.search(val)\n",
    "            else:\n",
    "                return False\n",
    "\n",
    "    def in_order_traversal(self):\n",
    "        elements = []\n",
    "        if self.left:\n",
    "            elements += self.left.in_order_traversal()\n",
    "\n",
    "        elements.append(self.data)\n",
    "\n",
    "        if self.right:\n",
    "            elements += self.right.in_order_traversal()\n",
    "\n",
    "        return elements"
   ]
  },
  {
   "cell_type": "code",
   "execution_count": 26,
   "id": "545c347a",
   "metadata": {},
   "outputs": [],
   "source": [
    "def build_tree(elements):\n",
    "    print(\"Building tree with these elements:\",elements)\n",
    "    root = BinarySearchTreeNode(elements[0])\n",
    "\n",
    "    for i in range(1,len(elements)):\n",
    "        root.add_child(elements[i])\n",
    "\n",
    "    return root"
   ]
  },
  {
   "cell_type": "code",
   "execution_count": 27,
   "id": "7a0187b8",
   "metadata": {},
   "outputs": [
    {
     "name": "stdout",
     "output_type": "stream",
     "text": [
      "Building tree with these elements: ['India', 'Pakistan', 'Germany', 'USA', 'China', 'India', 'UK', 'USA']\n",
      "UK is in the list?  True\n",
      "Sweden is in the list?  False\n"
     ]
    }
   ],
   "source": [
    "countries = [\"India\",\"Pakistan\",\"Germany\", \"USA\",\"China\",\"India\",\"UK\",\"USA\"]\n",
    "country_tree = build_tree(countries)\n",
    "\n",
    "print(\"UK is in the list? \", country_tree.search(\"UK\"))\n",
    "print(\"Sweden is in the list? \", country_tree.search(\"Sweden\"))"
   ]
  },
  {
   "cell_type": "code",
   "execution_count": 28,
   "id": "b6a472f2",
   "metadata": {},
   "outputs": [
    {
     "name": "stdout",
     "output_type": "stream",
     "text": [
      "Building tree with these elements: [17, 4, 1, 20, 9, 23, 18, 34]\n",
      "[1, 4, 9, 17, 18, 20, 23, 34]\n"
     ]
    }
   ],
   "source": [
    "numbers_tree = build_tree([17, 4, 1, 20, 9, 23, 18, 34])\n",
    "print(numbers_tree.in_order_traversal())"
   ]
  },
  {
   "cell_type": "code",
   "execution_count": 29,
   "id": "c61ab5eb",
   "metadata": {},
   "outputs": [
    {
     "data": {
      "text/plain": [
       "False"
      ]
     },
     "execution_count": 29,
     "metadata": {},
     "output_type": "execute_result"
    }
   ],
   "source": [
    "numbers_tree.search(200)"
   ]
  }
 ],
 "metadata": {
  "kernelspec": {
   "display_name": "Python 3 (ipykernel)",
   "language": "python",
   "name": "python3"
  },
  "language_info": {
   "codemirror_mode": {
    "name": "ipython",
    "version": 3
   },
   "file_extension": ".py",
   "mimetype": "text/x-python",
   "name": "python",
   "nbconvert_exporter": "python",
   "pygments_lexer": "ipython3",
   "version": "3.9.6"
  }
 },
 "nbformat": 4,
 "nbformat_minor": 5
}
