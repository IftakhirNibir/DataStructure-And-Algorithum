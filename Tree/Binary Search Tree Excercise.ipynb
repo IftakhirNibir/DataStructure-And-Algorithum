{
 "cells": [
  {
   "cell_type": "code",
   "execution_count": 38,
   "id": "6c8d0fbf",
   "metadata": {},
   "outputs": [],
   "source": [
    "class BinarySearchTreeNode:\n",
    "    def __init__(self, data):\n",
    "        self.data = data\n",
    "        self.left = None\n",
    "        self.right = None\n",
    "\n",
    "    def add_child(self, data):\n",
    "        if data == self.data:\n",
    "            return # node already exist\n",
    "\n",
    "        if data < self.data:\n",
    "            if self.left:\n",
    "                self.left.add_child(data)\n",
    "            else:\n",
    "                self.left = BinarySearchTreeNode(data)\n",
    "        else:\n",
    "            if self.right:\n",
    "                self.right.add_child(data)\n",
    "            else:\n",
    "                self.right = BinarySearchTreeNode(data)\n",
    "\n",
    "\n",
    "    def search(self, val):\n",
    "        if self.data == val:\n",
    "            return True\n",
    "\n",
    "        if val < self.data:\n",
    "            if self.left:\n",
    "                return self.left.search(val)\n",
    "            else:\n",
    "                return False\n",
    "\n",
    "        if val > self.data:\n",
    "            if self.right:\n",
    "                return self.right.search(val)\n",
    "            else:\n",
    "                return False\n",
    "\n",
    "    def in_order_traversal(self):\n",
    "        elements = []\n",
    "        if self.left:\n",
    "            elements += self.left.in_order_traversal()\n",
    "\n",
    "        elements.append(self.data)\n",
    "\n",
    "        if self.right:\n",
    "            elements += self.right.in_order_traversal()\n",
    "\n",
    "        return elements\n",
    "    \n",
    "    def find_min(self):\n",
    "        if self.left:\n",
    "            return self.left.find_min()\n",
    "        else:\n",
    "            return self.data\n",
    "        \n",
    "    def find_max(self):\n",
    "        if self.right:\n",
    "            return self.right.find_max()\n",
    "        else:\n",
    "            return self.data\n",
    "        \n",
    "    def calculate_sum(self):\n",
    "        total_sum = 0\n",
    "        if self.left:\n",
    "            total_sum +=self.left.calculate_sum()\n",
    "        \n",
    "        total_sum += self.data\n",
    "        \n",
    "        if self.right:\n",
    "            total_sum += self.right.calculate_sum()\n",
    "            \n",
    "        return total_sum\n",
    "    \n",
    "    def post_order_traversal(self):\n",
    "        elements = []\n",
    "        \n",
    "        if self.left:\n",
    "            elements += self.left.post_order_traversal()\n",
    "            \n",
    "        if self.right:\n",
    "            elements += self.right.post_order_traversal()\n",
    "            \n",
    "        elements.append(self.data)\n",
    "        \n",
    "        return elements\n",
    "        \n",
    "    def pre_order_traversal(self):\n",
    "        elements = []\n",
    "        \n",
    "        elements.append(self.data)\n",
    "            \n",
    "        if self.left:\n",
    "            elements += self.left.post_order_traversal()\n",
    "            \n",
    "        if self.right:\n",
    "            elements += self.right.post_order_traversal()\n",
    "        \n",
    "        return elements      "
   ]
  },
  {
   "cell_type": "code",
   "execution_count": 47,
   "id": "a7bf1259",
   "metadata": {},
   "outputs": [],
   "source": [
    "def build_tree(elements):\n",
    "    print(\"Building tree with these elements:\",elements)\n",
    "    root = BinarySearchTreeNode(elements[0])\n",
    "\n",
    "    for i in range(1,len(elements)):\n",
    "        root.add_child(elements[i])\n",
    "\n",
    "    return root"
   ]
  },
  {
   "cell_type": "code",
   "execution_count": 48,
   "id": "41340675",
   "metadata": {},
   "outputs": [
    {
     "name": "stdout",
     "output_type": "stream",
     "text": [
      "Building tree with these elements: [15, 12, 7, 14, 27, 20, 23, 88]\n",
      "7\n"
     ]
    }
   ],
   "source": [
    "numbers_tree = build_tree([15, 12, 7, 14, 27, 20, 23, 88])\n",
    "print(numbers_tree.find_min())"
   ]
  },
  {
   "cell_type": "code",
   "execution_count": 49,
   "id": "687962c8",
   "metadata": {},
   "outputs": [
    {
     "name": "stdout",
     "output_type": "stream",
     "text": [
      "88\n"
     ]
    }
   ],
   "source": [
    "print(numbers_tree.find_max())"
   ]
  },
  {
   "cell_type": "code",
   "execution_count": 50,
   "id": "ca3d664a",
   "metadata": {},
   "outputs": [
    {
     "name": "stdout",
     "output_type": "stream",
     "text": [
      "206\n"
     ]
    }
   ],
   "source": [
    "print(numbers_tree.calculate_sum())"
   ]
  },
  {
   "cell_type": "code",
   "execution_count": 51,
   "id": "c86848b9",
   "metadata": {},
   "outputs": [
    {
     "data": {
      "text/plain": [
       "[7, 14, 12, 23, 20, 88, 27, 15]"
      ]
     },
     "execution_count": 51,
     "metadata": {},
     "output_type": "execute_result"
    }
   ],
   "source": [
    "numbers_tree.post_order_traversal()"
   ]
  },
  {
   "cell_type": "code",
   "execution_count": 52,
   "id": "61071621",
   "metadata": {},
   "outputs": [
    {
     "data": {
      "text/plain": [
       "[15, 12, 7, 14, 27, 20, 23, 88]"
      ]
     },
     "execution_count": 52,
     "metadata": {},
     "output_type": "execute_result"
    }
   ],
   "source": [
    "numbers_tree.pre_order_traversal()"
   ]
  },
  {
   "cell_type": "code",
   "execution_count": 53,
   "id": "1f220b42",
   "metadata": {},
   "outputs": [
    {
     "data": {
      "text/plain": [
       "[7, 12, 14, 15, 20, 23, 27, 88]"
      ]
     },
     "execution_count": 53,
     "metadata": {},
     "output_type": "execute_result"
    }
   ],
   "source": [
    "numbers_tree.in_order_traversal()"
   ]
  },
  {
   "cell_type": "markdown",
   "id": "36446832",
   "metadata": {},
   "source": [
    "## Another solution "
   ]
  },
  {
   "cell_type": "code",
   "execution_count": 46,
   "id": "adfd2130",
   "metadata": {},
   "outputs": [
    {
     "name": "stdout",
     "output_type": "stream",
     "text": [
      "Input numbers: [15, 12, 7, 14, 27, 20, 23, 88]\n",
      "Min: 7\n",
      "Max: 88\n",
      "Sum: 206\n",
      "In order traversal: [7, 12, 14, 15, 20, 23, 27, 88]\n",
      "Pre order traversal: [15, 12, 7, 14, 27, 20, 23, 88]\n",
      "Post order traversal: [7, 14, 12, 23, 20, 88, 27, 15]\n"
     ]
    }
   ],
   "source": [
    "class BinarySearchTreeNode:\n",
    "    def __init__(self, data):\n",
    "        self.data = data\n",
    "        self.left = None\n",
    "        self.right = None\n",
    "\n",
    "    def add_child(self, data):\n",
    "        if data == self.data:\n",
    "            return # node already exist\n",
    "\n",
    "        if data < self.data:\n",
    "            if self.left:\n",
    "                self.left.add_child(data)\n",
    "            else:\n",
    "                self.left = BinarySearchTreeNode(data)\n",
    "        else:\n",
    "            if self.right:\n",
    "                self.right.add_child(data)\n",
    "            else:\n",
    "                self.right = BinarySearchTreeNode(data)\n",
    "\n",
    "\n",
    "    def search(self, val):\n",
    "        if self.data == val:\n",
    "            return True\n",
    "\n",
    "        if val < self.data:\n",
    "            if self.left:\n",
    "                return self.left.search(val)\n",
    "            else:\n",
    "                return False\n",
    "\n",
    "        if val > self.data:\n",
    "            if self.right:\n",
    "                return self.right.search(val)\n",
    "            else:\n",
    "                return False\n",
    "\n",
    "    def in_order_traversal(self):\n",
    "        elements = []\n",
    "        if self.left:\n",
    "            elements += self.left.in_order_traversal()\n",
    "\n",
    "        elements.append(self.data)\n",
    "\n",
    "        if self.right:\n",
    "            elements += self.right.in_order_traversal()\n",
    "\n",
    "        return elements\n",
    "\n",
    "    def post_order_traversal(self):\n",
    "        elements = []\n",
    "        if self.left:\n",
    "            elements += self.left.post_order_traversal()\n",
    "        if self.right:\n",
    "            elements += self.right.post_order_traversal()\n",
    "\n",
    "        elements.append(self.data)\n",
    "\n",
    "        return elements\n",
    "\n",
    "    def pre_order_traversal(self):\n",
    "        elements = [self.data]\n",
    "        if self.left:\n",
    "            elements += self.left.pre_order_traversal()\n",
    "        if self.right:\n",
    "            elements += self.right.pre_order_traversal()\n",
    "\n",
    "        return elements\n",
    "\n",
    "    def find_max(self):\n",
    "        if self.right is None:\n",
    "            return self.data\n",
    "        return self.right.find_max()\n",
    "\n",
    "    def find_min(self):\n",
    "        if self.left is None:\n",
    "            return self.data\n",
    "        return self.left.find_min()\n",
    "\n",
    "    def calculate_sum(self):\n",
    "        left_sum = self.left.calculate_sum() if self.left else 0\n",
    "        right_sum = self.right.calculate_sum() if self.right else 0\n",
    "        return self.data + left_sum + right_sum\n",
    "\n",
    "def build_tree(elements):\n",
    "    root = BinarySearchTreeNode(elements[0])\n",
    "\n",
    "    for i in range(1,len(elements)):\n",
    "        root.add_child(elements[i])\n",
    "\n",
    "    return root\n",
    "\n",
    "if __name__ == '__main__':\n",
    "    numbers = [17, 4, 1, 20, 9, 23, 18, 34]\n",
    "\n",
    "    numbers = [15,12,7,14,27,20,23,88 ]\n",
    "\n",
    "    numbers_tree = build_tree(numbers)\n",
    "    print(\"Input numbers:\",numbers)\n",
    "    print(\"Min:\",numbers_tree.find_min())\n",
    "    print(\"Max:\",numbers_tree.find_max())\n",
    "    print(\"Sum:\", numbers_tree.calculate_sum())\n",
    "    print(\"In order traversal:\", numbers_tree.in_order_traversal())\n",
    "    print(\"Pre order traversal:\", numbers_tree.pre_order_traversal())\n",
    "    print(\"Post order traversal:\", numbers_tree.post_order_traversal())"
   ]
  },
  {
   "cell_type": "code",
   "execution_count": null,
   "id": "2f36afa2",
   "metadata": {},
   "outputs": [],
   "source": []
  }
 ],
 "metadata": {
  "kernelspec": {
   "display_name": "Python 3 (ipykernel)",
   "language": "python",
   "name": "python3"
  },
  "language_info": {
   "codemirror_mode": {
    "name": "ipython",
    "version": 3
   },
   "file_extension": ".py",
   "mimetype": "text/x-python",
   "name": "python",
   "nbconvert_exporter": "python",
   "pygments_lexer": "ipython3",
   "version": "3.9.6"
  }
 },
 "nbformat": 4,
 "nbformat_minor": 5
}
