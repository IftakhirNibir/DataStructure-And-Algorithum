{
 "cells": [
  {
   "cell_type": "markdown",
   "id": "043bb523",
   "metadata": {},
   "source": [
    "Given a sorted array A and a value X. We need to find two pair of value so that the sum of two value is X  "
   ]
  },
  {
   "cell_type": "code",
   "execution_count": 11,
   "id": "8820405d",
   "metadata": {},
   "outputs": [],
   "source": [
    "A = [8,9,11,14,15,22,26,29,30]\n",
    "X = 48"
   ]
  },
  {
   "cell_type": "markdown",
   "id": "68377f6c",
   "metadata": {},
   "source": [
    "Brute force approch "
   ]
  },
  {
   "cell_type": "code",
   "execution_count": 12,
   "id": "39d69446",
   "metadata": {},
   "outputs": [
    {
     "name": "stdout",
     "output_type": "stream",
     "text": [
      "22 26\n",
      "26 22\n"
     ]
    }
   ],
   "source": [
    "for i in A:\n",
    "    for j in A:\n",
    "        if i+j == X:\n",
    "            print(i,j)"
   ]
  },
  {
   "cell_type": "markdown",
   "id": "a9d48a26",
   "metadata": {},
   "source": [
    "Find the index"
   ]
  },
  {
   "cell_type": "code",
   "execution_count": 13,
   "id": "da1a9ffc",
   "metadata": {},
   "outputs": [
    {
     "name": "stdout",
     "output_type": "stream",
     "text": [
      "5 6\n",
      "6 5\n"
     ]
    }
   ],
   "source": [
    "for i in range(len(A)):\n",
    "    for j in range(len(A)):\n",
    "        if A[i]+A[j] == X:\n",
    "            print(i,j)"
   ]
  },
  {
   "cell_type": "markdown",
   "id": "5eac732b",
   "metadata": {},
   "source": [
    "This approach takes O(n^2) time"
   ]
  },
  {
   "cell_type": "code",
   "execution_count": 14,
   "id": "5433feae",
   "metadata": {},
   "outputs": [],
   "source": [
    "# Two pointer approach\n",
    "\n",
    "def two_pointer(A,x):\n",
    "    i = 0\n",
    "    j = len(A)-1\n",
    "\n",
    "    while i<j:\n",
    "        if(A[i]+A[j]==x):\n",
    "            print(i,j)\n",
    "            break\n",
    "\n",
    "        elif (A[i]+A[j]<x):\n",
    "            i+=1\n",
    "        else:\n",
    "            j-=1\n",
    "    return -1"
   ]
  },
  {
   "cell_type": "code",
   "execution_count": 18,
   "id": "0487e60f",
   "metadata": {},
   "outputs": [
    {
     "name": "stdout",
     "output_type": "stream",
     "text": [
      "5 6\n"
     ]
    }
   ],
   "source": [
    "Ans = two_pointer(A,X)"
   ]
  }
 ],
 "metadata": {
  "kernelspec": {
   "display_name": "Python 3 (ipykernel)",
   "language": "python",
   "name": "python3"
  },
  "language_info": {
   "codemirror_mode": {
    "name": "ipython",
    "version": 3
   },
   "file_extension": ".py",
   "mimetype": "text/x-python",
   "name": "python",
   "nbconvert_exporter": "python",
   "pygments_lexer": "ipython3",
   "version": "3.9.6"
  }
 },
 "nbformat": 4,
 "nbformat_minor": 5
}
