{
 "cells": [
  {
   "cell_type": "markdown",
   "id": "91aa1d48",
   "metadata": {},
   "source": [
    "## Finding the sum "
   ]
  },
  {
   "cell_type": "code",
   "execution_count": 1,
   "id": "24e8cde9",
   "metadata": {},
   "outputs": [],
   "source": [
    "#Normal Way\n",
    "def find_sum(n):\n",
    "    s = 0\n",
    "    for i in range(1,n+1):\n",
    "        s+=i\n",
    "    return s"
   ]
  },
  {
   "cell_type": "code",
   "execution_count": 2,
   "id": "02d4138e",
   "metadata": {},
   "outputs": [
    {
     "name": "stdout",
     "output_type": "stream",
     "text": [
      "15\n"
     ]
    }
   ],
   "source": [
    "print(find_sum(5))"
   ]
  },
  {
   "cell_type": "markdown",
   "id": "5a2956aa",
   "metadata": {},
   "source": [
    "#Condition: sum of a number = that number + sum of(previous number)<br>\n",
    " for example: sum of 5 = 5 + sum of (4) = 5 + 10(4+3+2+1) = 15 <br>\n",
    "<li>sum of 5 -> 5 + sum of 1 to 4</li>\n",
    "<li>sum of 4 -> 4 + sum of 1 to 3</li>\n",
    "<li>sum of 3 -> 3 + sum of 1 to 2</li>\n",
    "<li>sum of 2 -> 2 + sum of 1 to 1</li>\n",
    "<li>sum of 1 -> 1 </li>"
   ]
  },
  {
   "cell_type": "code",
   "execution_count": 3,
   "id": "f83adf7d",
   "metadata": {},
   "outputs": [],
   "source": [
    "#Recursive way\n",
    "def find_sum_re(n):\n",
    "    if n==1:\n",
    "        return 1\n",
    "    else:\n",
    "        return n+ find_sum_re(n-1)"
   ]
  },
  {
   "cell_type": "code",
   "execution_count": 4,
   "id": "1ffaffbf",
   "metadata": {},
   "outputs": [
    {
     "name": "stdout",
     "output_type": "stream",
     "text": [
      "15\n"
     ]
    }
   ],
   "source": [
    "print(find_sum_re(5))"
   ]
  },
  {
   "cell_type": "markdown",
   "id": "9c098191",
   "metadata": {},
   "source": [
    "## Fibonacci series\n",
    "Condition: fibo number = sum of previous two number <br>\n",
    "number -> 0,1,1,2,3,5,8 <br>\n",
    "index   -> 0,1,2,3,4,5,6 <br>"
   ]
  },
  {
   "cell_type": "code",
   "execution_count": 5,
   "id": "e55c4335",
   "metadata": {},
   "outputs": [],
   "source": [
    "def fibo_number(n):\n",
    "    if n==0 or n==1:\n",
    "        return n\n",
    "    return fibo_number(n-1)+fibo_number(n-2)"
   ]
  },
  {
   "cell_type": "code",
   "execution_count": 6,
   "id": "6e50d465",
   "metadata": {},
   "outputs": [
    {
     "data": {
      "text/plain": [
       "8"
      ]
     },
     "execution_count": 6,
     "metadata": {},
     "output_type": "execute_result"
    }
   ],
   "source": [
    "fibo_number(6)"
   ]
  },
  {
   "cell_type": "markdown",
   "id": "3ac190a5",
   "metadata": {},
   "source": [
    "## Is the number is power of 2? "
   ]
  },
  {
   "cell_type": "code",
   "execution_count": 10,
   "id": "003b3059",
   "metadata": {},
   "outputs": [],
   "source": [
    "def isPowerOfTwo(n):\n",
    "    if n<=0:\n",
    "        return False\n",
    "    if n==1:\n",
    "        return True\n",
    "    if n%2!=0:\n",
    "        return False\n",
    "    return isPowerOfTwo(n/2)"
   ]
  },
  {
   "cell_type": "code",
   "execution_count": 11,
   "id": "96215412",
   "metadata": {},
   "outputs": [
    {
     "data": {
      "text/plain": [
       "False"
      ]
     },
     "execution_count": 11,
     "metadata": {},
     "output_type": "execute_result"
    }
   ],
   "source": [
    "isPowerOfTwo(5)"
   ]
  },
  {
   "cell_type": "code",
   "execution_count": 12,
   "id": "3ef4453e",
   "metadata": {},
   "outputs": [
    {
     "data": {
      "text/plain": [
       "True"
      ]
     },
     "execution_count": 12,
     "metadata": {},
     "output_type": "execute_result"
    }
   ],
   "source": [
    "isPowerOfTwo(16)"
   ]
  },
  {
   "cell_type": "code",
   "execution_count": 13,
   "id": "ca0dab86",
   "metadata": {},
   "outputs": [
    {
     "data": {
      "text/plain": [
       "True"
      ]
     },
     "execution_count": 13,
     "metadata": {},
     "output_type": "execute_result"
    }
   ],
   "source": [
    "isPowerOfTwo(1)"
   ]
  },
  {
   "cell_type": "code",
   "execution_count": null,
   "id": "2d9714da",
   "metadata": {},
   "outputs": [],
   "source": [
    "isPowerOfTwo(-5)"
   ]
  }
 ],
 "metadata": {
  "kernelspec": {
   "display_name": "Python 3 (ipykernel)",
   "language": "python",
   "name": "python3"
  },
  "language_info": {
   "codemirror_mode": {
    "name": "ipython",
    "version": 3
   },
   "file_extension": ".py",
   "mimetype": "text/x-python",
   "name": "python",
   "nbconvert_exporter": "python",
   "pygments_lexer": "ipython3",
   "version": "3.9.6"
  }
 },
 "nbformat": 4,
 "nbformat_minor": 5
}
