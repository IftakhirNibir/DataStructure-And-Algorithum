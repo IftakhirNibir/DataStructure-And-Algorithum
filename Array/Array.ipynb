{
 "cells": [
  {
   "cell_type": "markdown",
   "id": "3b7c3b6c",
   "metadata": {},
   "source": [
    "An array can hold many values under a single name, and you can access the values by referring to an index number."
   ]
  },
  {
   "cell_type": "code",
   "execution_count": 16,
   "id": "0f97af2c",
   "metadata": {},
   "outputs": [],
   "source": [
    "cars = [\"Ford\", \"Volvo\", \"BMW\"]"
   ]
  },
  {
   "cell_type": "code",
   "execution_count": 17,
   "id": "8bde9d31",
   "metadata": {},
   "outputs": [
    {
     "data": {
      "text/plain": [
       "'Ford'"
      ]
     },
     "execution_count": 17,
     "metadata": {},
     "output_type": "execute_result"
    }
   ],
   "source": [
    "# Finding the first element of the list \n",
    "cars[0]"
   ]
  },
  {
   "cell_type": "code",
   "execution_count": 18,
   "id": "97d4a8d7",
   "metadata": {},
   "outputs": [
    {
     "data": {
      "text/plain": [
       "['Ford', 'Corola', 'BMW']"
      ]
     },
     "execution_count": 18,
     "metadata": {},
     "output_type": "execute_result"
    }
   ],
   "source": [
    "# Changing second element value \n",
    "cars[1] = \"Corola\"\n",
    "cars"
   ]
  },
  {
   "cell_type": "code",
   "execution_count": 19,
   "id": "3ab9060c",
   "metadata": {},
   "outputs": [
    {
     "data": {
      "text/plain": [
       "3"
      ]
     },
     "execution_count": 19,
     "metadata": {},
     "output_type": "execute_result"
    }
   ],
   "source": [
    "# Size of the list \n",
    "len(cars)"
   ]
  },
  {
   "cell_type": "code",
   "execution_count": 20,
   "id": "680629ed",
   "metadata": {},
   "outputs": [
    {
     "name": "stdout",
     "output_type": "stream",
     "text": [
      "Ford\n",
      "Corola\n",
      "BMW\n"
     ]
    }
   ],
   "source": [
    "# Looping array elements\n",
    "for i in cars:\n",
    "    print(i)"
   ]
  },
  {
   "cell_type": "code",
   "execution_count": 24,
   "id": "357fe65f",
   "metadata": {},
   "outputs": [
    {
     "data": {
      "text/plain": [
       "['Ford', 'Corola', 'Premiyo']"
      ]
     },
     "execution_count": 24,
     "metadata": {},
     "output_type": "execute_result"
    }
   ],
   "source": [
    "# Adding array elements\n",
    "cars.append(\"Premiyo\")\n",
    "cars"
   ]
  },
  {
   "cell_type": "code",
   "execution_count": 25,
   "id": "655362f1",
   "metadata": {},
   "outputs": [
    {
     "data": {
      "text/plain": [
       "['Ford', 'Corola']"
      ]
     },
     "execution_count": 25,
     "metadata": {},
     "output_type": "execute_result"
    }
   ],
   "source": [
    "# removing last array elements\n",
    "cars.pop()\n",
    "cars"
   ]
  },
  {
   "cell_type": "code",
   "execution_count": 26,
   "id": "c6e0ff85",
   "metadata": {},
   "outputs": [
    {
     "data": {
      "text/plain": [
       "['Ford', 'Corola', 'Premiyo']"
      ]
     },
     "execution_count": 26,
     "metadata": {},
     "output_type": "execute_result"
    }
   ],
   "source": [
    "# Adding array elements\n",
    "cars.append(\"Premiyo\")\n",
    "cars"
   ]
  },
  {
   "cell_type": "code",
   "execution_count": 27,
   "id": "a5e50786",
   "metadata": {},
   "outputs": [
    {
     "data": {
      "text/plain": [
       "['Ford', 'Premiyo']"
      ]
     },
     "execution_count": 27,
     "metadata": {},
     "output_type": "execute_result"
    }
   ],
   "source": [
    "# removing any value by index number in array elements\n",
    "# for example removing 2nd element\n",
    "cars.pop(1)\n",
    "cars"
   ]
  },
  {
   "cell_type": "code",
   "execution_count": 28,
   "id": "7083b6c4",
   "metadata": {},
   "outputs": [
    {
     "data": {
      "text/plain": [
       "['Ford', 'Premiyo', 'Corola']"
      ]
     },
     "execution_count": 28,
     "metadata": {},
     "output_type": "execute_result"
    }
   ],
   "source": [
    "# Adding array elements\n",
    "cars.append(\"Corola\")\n",
    "cars"
   ]
  },
  {
   "cell_type": "code",
   "execution_count": 29,
   "id": "97a1cc03",
   "metadata": {},
   "outputs": [
    {
     "data": {
      "text/plain": [
       "['Ford', 'Premiyo']"
      ]
     },
     "execution_count": 29,
     "metadata": {},
     "output_type": "execute_result"
    }
   ],
   "source": [
    "# we can also remove by value \n",
    "cars.remove('Corola')\n",
    "cars"
   ]
  },
  {
   "cell_type": "code",
   "execution_count": 30,
   "id": "b8c83e4b",
   "metadata": {},
   "outputs": [
    {
     "data": {
      "text/plain": [
       "['Ford', 'Corola', 'Premiyo']"
      ]
     },
     "execution_count": 30,
     "metadata": {},
     "output_type": "execute_result"
    }
   ],
   "source": [
    "# we can insert value in any position \n",
    "# for example we insert value in 2nd position \n",
    "cars.insert(1,\"Corola\")\n",
    "cars"
   ]
  },
  {
   "cell_type": "code",
   "execution_count": 31,
   "id": "417bedec",
   "metadata": {},
   "outputs": [
    {
     "data": {
      "text/plain": [
       "[]"
      ]
     },
     "execution_count": 31,
     "metadata": {},
     "output_type": "execute_result"
    }
   ],
   "source": [
    "# Removes all the elements from the list\n",
    "cars.clear()\n",
    "cars"
   ]
  },
  {
   "cell_type": "code",
   "execution_count": 35,
   "id": "a50fa42a",
   "metadata": {},
   "outputs": [
    {
     "name": "stdout",
     "output_type": "stream",
     "text": [
      "['SSSD', 'Volvo', 'BMW']\n",
      "['Ford', 'Volvo', 'BMW']\n"
     ]
    }
   ],
   "source": [
    "# Returns a copy of the list\n",
    "cars = [\"Ford\", \"Volvo\", \"BMW\"]\n",
    "cars2 = cars.copy()\n",
    "cars[0] = \"SSSD\"\n",
    "print(cars)\n",
    "print(cars2)"
   ]
  },
  {
   "cell_type": "code",
   "execution_count": 38,
   "id": "b6fd502e",
   "metadata": {},
   "outputs": [
    {
     "data": {
      "text/plain": [
       "['SSSD', 'Volvo', 'BMW', 'Ford', 'Volvo', 'BMW']"
      ]
     },
     "execution_count": 38,
     "metadata": {},
     "output_type": "execute_result"
    }
   ],
   "source": [
    "# Add the elements of a list (or any iterable), to the end of the current list\n",
    "cars.extend(cars2)\n",
    "cars"
   ]
  },
  {
   "cell_type": "code",
   "execution_count": 40,
   "id": "6ab1a21c",
   "metadata": {},
   "outputs": [
    {
     "data": {
      "text/plain": [
       "2"
      ]
     },
     "execution_count": 40,
     "metadata": {},
     "output_type": "execute_result"
    }
   ],
   "source": [
    "# Returns the number of elements with the specified value\n",
    "points = [1, 4, 2, 9, 7, 8, 9, 3, 1]\n",
    "points.count(9)"
   ]
  },
  {
   "cell_type": "code",
   "execution_count": 41,
   "id": "d2d9a707",
   "metadata": {},
   "outputs": [
    {
     "data": {
      "text/plain": [
       "2"
      ]
     },
     "execution_count": 41,
     "metadata": {},
     "output_type": "execute_result"
    }
   ],
   "source": [
    "# Returns the index of the element\n",
    "cars.index('BMW')"
   ]
  },
  {
   "cell_type": "code",
   "execution_count": 46,
   "id": "bbed01fc",
   "metadata": {},
   "outputs": [
    {
     "data": {
      "text/plain": [
       "['SSSD', 'Volvo', 'BMW', 'Ford', 'Volvo', 'BMW']"
      ]
     },
     "execution_count": 46,
     "metadata": {},
     "output_type": "execute_result"
    }
   ],
   "source": [
    "cars"
   ]
  },
  {
   "cell_type": "code",
   "execution_count": 47,
   "id": "0238f3d6",
   "metadata": {},
   "outputs": [
    {
     "data": {
      "text/plain": [
       "['BMW', 'Volvo', 'Ford', 'BMW', 'Volvo', 'SSSD']"
      ]
     },
     "execution_count": 47,
     "metadata": {},
     "output_type": "execute_result"
    }
   ],
   "source": [
    "# Reverses the order of the list\n",
    "cars.reverse()\n",
    "cars"
   ]
  },
  {
   "cell_type": "code",
   "execution_count": 48,
   "id": "7ce9423a",
   "metadata": {},
   "outputs": [
    {
     "data": {
      "text/plain": [
       "[1, 4, 2, 9, 7, 8, 9, 3, 1]"
      ]
     },
     "execution_count": 48,
     "metadata": {},
     "output_type": "execute_result"
    }
   ],
   "source": [
    "points "
   ]
  },
  {
   "cell_type": "code",
   "execution_count": 50,
   "id": "3686734f",
   "metadata": {},
   "outputs": [
    {
     "data": {
      "text/plain": [
       "[1, 1, 2, 3, 4, 7, 8, 9, 9]"
      ]
     },
     "execution_count": 50,
     "metadata": {},
     "output_type": "execute_result"
    }
   ],
   "source": [
    "# Sorts the list\n",
    "points.sort()\n",
    "points"
   ]
  },
  {
   "cell_type": "code",
   "execution_count": null,
   "id": "43fe03c3",
   "metadata": {},
   "outputs": [],
   "source": []
  }
 ],
 "metadata": {
  "kernelspec": {
   "display_name": "Python 3 (ipykernel)",
   "language": "python",
   "name": "python3"
  },
  "language_info": {
   "codemirror_mode": {
    "name": "ipython",
    "version": 3
   },
   "file_extension": ".py",
   "mimetype": "text/x-python",
   "name": "python",
   "nbconvert_exporter": "python",
   "pygments_lexer": "ipython3",
   "version": "3.9.6"
  }
 },
 "nbformat": 4,
 "nbformat_minor": 5
}
