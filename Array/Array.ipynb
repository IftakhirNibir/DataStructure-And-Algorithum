{
 "cells": [
  {
   "cell_type": "markdown",
   "id": "3b7c3b6c",
   "metadata": {},
   "source": [
    "An array can hold many values under a single name, and we can access the values by referring to an index number."
   ]
  },
  {
   "cell_type": "markdown",
   "id": "c4895cd1",
   "metadata": {},
   "source": [
    "## List\n",
    "Lists store items that are of various data types. This means that a list can contain integers, floating point numbers, strings, or any other Python data type, at the same time. That is not the case with arrays."
   ]
  },
  {
   "cell_type": "code",
   "execution_count": 16,
   "id": "0f97af2c",
   "metadata": {},
   "outputs": [],
   "source": [
    "cars = [\"Ford\", \"Volvo\", \"BMW\"]"
   ]
  },
  {
   "cell_type": "code",
   "execution_count": 17,
   "id": "8bde9d31",
   "metadata": {},
   "outputs": [
    {
     "data": {
      "text/plain": [
       "'Ford'"
      ]
     },
     "execution_count": 17,
     "metadata": {},
     "output_type": "execute_result"
    }
   ],
   "source": [
    "# Finding the first element of the list \n",
    "cars[0]"
   ]
  },
  {
   "cell_type": "code",
   "execution_count": 18,
   "id": "97d4a8d7",
   "metadata": {},
   "outputs": [
    {
     "data": {
      "text/plain": [
       "['Ford', 'Corola', 'BMW']"
      ]
     },
     "execution_count": 18,
     "metadata": {},
     "output_type": "execute_result"
    }
   ],
   "source": [
    "# Changing second element value \n",
    "cars[1] = \"Corola\"\n",
    "cars"
   ]
  },
  {
   "cell_type": "code",
   "execution_count": 19,
   "id": "3ab9060c",
   "metadata": {},
   "outputs": [
    {
     "data": {
      "text/plain": [
       "3"
      ]
     },
     "execution_count": 19,
     "metadata": {},
     "output_type": "execute_result"
    }
   ],
   "source": [
    "# Size of the list \n",
    "len(cars)"
   ]
  },
  {
   "cell_type": "code",
   "execution_count": 20,
   "id": "680629ed",
   "metadata": {},
   "outputs": [
    {
     "name": "stdout",
     "output_type": "stream",
     "text": [
      "Ford\n",
      "Corola\n",
      "BMW\n"
     ]
    }
   ],
   "source": [
    "# Looping array elements\n",
    "for i in cars:\n",
    "    print(i)"
   ]
  },
  {
   "cell_type": "code",
   "execution_count": 24,
   "id": "357fe65f",
   "metadata": {},
   "outputs": [
    {
     "data": {
      "text/plain": [
       "['Ford', 'Corola', 'Premiyo']"
      ]
     },
     "execution_count": 24,
     "metadata": {},
     "output_type": "execute_result"
    }
   ],
   "source": [
    "# Adding array elements\n",
    "cars.append(\"Premiyo\")\n",
    "cars"
   ]
  },
  {
   "cell_type": "code",
   "execution_count": 25,
   "id": "655362f1",
   "metadata": {},
   "outputs": [
    {
     "data": {
      "text/plain": [
       "['Ford', 'Corola']"
      ]
     },
     "execution_count": 25,
     "metadata": {},
     "output_type": "execute_result"
    }
   ],
   "source": [
    "# removing last array elements\n",
    "cars.pop()\n",
    "cars"
   ]
  },
  {
   "cell_type": "code",
   "execution_count": 26,
   "id": "c6e0ff85",
   "metadata": {},
   "outputs": [
    {
     "data": {
      "text/plain": [
       "['Ford', 'Corola', 'Premiyo']"
      ]
     },
     "execution_count": 26,
     "metadata": {},
     "output_type": "execute_result"
    }
   ],
   "source": [
    "# Adding array elements\n",
    "cars.append(\"Premiyo\")\n",
    "cars"
   ]
  },
  {
   "cell_type": "code",
   "execution_count": 27,
   "id": "a5e50786",
   "metadata": {},
   "outputs": [
    {
     "data": {
      "text/plain": [
       "['Ford', 'Premiyo']"
      ]
     },
     "execution_count": 27,
     "metadata": {},
     "output_type": "execute_result"
    }
   ],
   "source": [
    "# removing any value by index number in array elements\n",
    "# for example removing 2nd element\n",
    "cars.pop(1)\n",
    "cars"
   ]
  },
  {
   "cell_type": "code",
   "execution_count": 28,
   "id": "7083b6c4",
   "metadata": {},
   "outputs": [
    {
     "data": {
      "text/plain": [
       "['Ford', 'Premiyo', 'Corola']"
      ]
     },
     "execution_count": 28,
     "metadata": {},
     "output_type": "execute_result"
    }
   ],
   "source": [
    "# Adding array elements\n",
    "cars.append(\"Corola\")\n",
    "cars"
   ]
  },
  {
   "cell_type": "code",
   "execution_count": 29,
   "id": "97a1cc03",
   "metadata": {},
   "outputs": [
    {
     "data": {
      "text/plain": [
       "['Ford', 'Premiyo']"
      ]
     },
     "execution_count": 29,
     "metadata": {},
     "output_type": "execute_result"
    }
   ],
   "source": [
    "# we can also remove by value \n",
    "cars.remove('Corola')\n",
    "cars"
   ]
  },
  {
   "cell_type": "code",
   "execution_count": 30,
   "id": "b8c83e4b",
   "metadata": {},
   "outputs": [
    {
     "data": {
      "text/plain": [
       "['Ford', 'Corola', 'Premiyo']"
      ]
     },
     "execution_count": 30,
     "metadata": {},
     "output_type": "execute_result"
    }
   ],
   "source": [
    "# we can insert value in any position \n",
    "# for example we insert value in 2nd position \n",
    "cars.insert(1,\"Corola\")\n",
    "cars"
   ]
  },
  {
   "cell_type": "code",
   "execution_count": 31,
   "id": "417bedec",
   "metadata": {},
   "outputs": [
    {
     "data": {
      "text/plain": [
       "[]"
      ]
     },
     "execution_count": 31,
     "metadata": {},
     "output_type": "execute_result"
    }
   ],
   "source": [
    "# Removes all the elements from the list\n",
    "cars.clear()\n",
    "cars"
   ]
  },
  {
   "cell_type": "code",
   "execution_count": 35,
   "id": "a50fa42a",
   "metadata": {},
   "outputs": [
    {
     "name": "stdout",
     "output_type": "stream",
     "text": [
      "['SSSD', 'Volvo', 'BMW']\n",
      "['Ford', 'Volvo', 'BMW']\n"
     ]
    }
   ],
   "source": [
    "# Returns a copy of the list\n",
    "cars = [\"Ford\", \"Volvo\", \"BMW\"]\n",
    "cars2 = cars.copy()\n",
    "cars[0] = \"SSSD\"\n",
    "print(cars)\n",
    "print(cars2)"
   ]
  },
  {
   "cell_type": "code",
   "execution_count": 38,
   "id": "b6fd502e",
   "metadata": {},
   "outputs": [
    {
     "data": {
      "text/plain": [
       "['SSSD', 'Volvo', 'BMW', 'Ford', 'Volvo', 'BMW']"
      ]
     },
     "execution_count": 38,
     "metadata": {},
     "output_type": "execute_result"
    }
   ],
   "source": [
    "# Add the elements of a list (or any iterable), to the end of the current list\n",
    "cars.extend(cars2)\n",
    "cars"
   ]
  },
  {
   "cell_type": "code",
   "execution_count": 40,
   "id": "6ab1a21c",
   "metadata": {},
   "outputs": [
    {
     "data": {
      "text/plain": [
       "2"
      ]
     },
     "execution_count": 40,
     "metadata": {},
     "output_type": "execute_result"
    }
   ],
   "source": [
    "# Returns the number of elements with the specified value\n",
    "points = [1, 4, 2, 9, 7, 8, 9, 3, 1]\n",
    "points.count(9)"
   ]
  },
  {
   "cell_type": "code",
   "execution_count": 41,
   "id": "d2d9a707",
   "metadata": {},
   "outputs": [
    {
     "data": {
      "text/plain": [
       "2"
      ]
     },
     "execution_count": 41,
     "metadata": {},
     "output_type": "execute_result"
    }
   ],
   "source": [
    "# Returns the index of the element\n",
    "cars.index('BMW')"
   ]
  },
  {
   "cell_type": "code",
   "execution_count": 46,
   "id": "bbed01fc",
   "metadata": {},
   "outputs": [
    {
     "data": {
      "text/plain": [
       "['SSSD', 'Volvo', 'BMW', 'Ford', 'Volvo', 'BMW']"
      ]
     },
     "execution_count": 46,
     "metadata": {},
     "output_type": "execute_result"
    }
   ],
   "source": [
    "cars"
   ]
  },
  {
   "cell_type": "code",
   "execution_count": 47,
   "id": "0238f3d6",
   "metadata": {},
   "outputs": [
    {
     "data": {
      "text/plain": [
       "['BMW', 'Volvo', 'Ford', 'BMW', 'Volvo', 'SSSD']"
      ]
     },
     "execution_count": 47,
     "metadata": {},
     "output_type": "execute_result"
    }
   ],
   "source": [
    "# Reverses the order of the list\n",
    "cars.reverse()\n",
    "cars"
   ]
  },
  {
   "cell_type": "code",
   "execution_count": 48,
   "id": "7ce9423a",
   "metadata": {},
   "outputs": [
    {
     "data": {
      "text/plain": [
       "[1, 4, 2, 9, 7, 8, 9, 3, 1]"
      ]
     },
     "execution_count": 48,
     "metadata": {},
     "output_type": "execute_result"
    }
   ],
   "source": [
    "points "
   ]
  },
  {
   "cell_type": "code",
   "execution_count": 50,
   "id": "3686734f",
   "metadata": {},
   "outputs": [
    {
     "data": {
      "text/plain": [
       "[1, 1, 2, 3, 4, 7, 8, 9, 9]"
      ]
     },
     "execution_count": 50,
     "metadata": {},
     "output_type": "execute_result"
    }
   ],
   "source": [
    "# Sorts the list\n",
    "points.sort()\n",
    "points"
   ]
  },
  {
   "cell_type": "markdown",
   "id": "1fa7cd62",
   "metadata": {},
   "source": [
    "## Array\n",
    "The most important thing to remember about Python arrays that they can only hold a sequence of multiple items that are of the same type.They are also more compact and take up less memory and space which makes them more size efficient compared to lists."
   ]
  },
  {
   "cell_type": "code",
   "execution_count": 51,
   "id": "19b61d60",
   "metadata": {},
   "outputs": [
    {
     "data": {
      "text/plain": [
       "array('i', [10, 20, 30])"
      ]
     },
     "execution_count": 51,
     "metadata": {},
     "output_type": "execute_result"
    }
   ],
   "source": [
    "# Define an array \n",
    "from array import *\n",
    "variable = array(\"i\",[10,20,30]) # \"i\" is the symbol of typecode \n",
    "variable"
   ]
  },
  {
   "cell_type": "markdown",
   "id": "2abca3d8",
   "metadata": {},
   "source": [
    "<table>\n",
    "  <tr>\n",
    "    <th>TYPECODE</th>\n",
    "    <th>C TYPE</th>\n",
    "    <th>PYTHON TYPE</th>\n",
    "    <th>SIZE</th>\n",
    "  </tr>\n",
    "  <tr>\n",
    "    <td>'b'</td>\n",
    "    <td>signed char</td>\n",
    "    <td>int</td>\n",
    "    <td>1</td>\n",
    "  </tr>\n",
    "  <tr>\n",
    "    <td>'B'</td>\n",
    "    <td>unsigned char</td>\n",
    "    <td>int</td>\n",
    "    <td>1</td>\n",
    "  </tr>\n",
    "  <tr>\n",
    "    <td>'u'</td>\n",
    "    <td>wchar_t</td>\n",
    "    <td>str</td>\n",
    "    <td>2</td>\n",
    "  </tr>\n",
    "  <tr>\n",
    "    <td>'h'</td>\n",
    "    <td>signed short</td>\n",
    "    <td>int</td>\n",
    "    <td>2</td>\n",
    "  </tr>\n",
    "  <tr>\n",
    "    <td>'H'</td>\n",
    "    <td>unsigned short</td>\n",
    "    <td>int</td>\n",
    "    <td>2</td>\n",
    "  </tr>\n",
    "  <tr>\n",
    "    <td>'i'</td>\n",
    "    <td>signed int</td>\n",
    "    <td>int</td>\n",
    "    <td>2</td>\n",
    "  </tr>\n",
    "  <tr>\n",
    "    <td>'I'</td>\n",
    "    <td>unsigned int</td>\n",
    "    <td>int</td>\n",
    "    <td>2</td>\n",
    "  </tr>\n",
    "  <tr>\n",
    "    <td>'l'</td>\n",
    "    <td>signed long</td>\n",
    "    <td>int</td>\n",
    "    <td>4</td>\n",
    "  </tr>\n",
    "  <tr>\n",
    "    <td>'L'</td>\n",
    "    <td>unsigned long</td>\n",
    "    <td>int</td>\n",
    "    <td>4</td>\n",
    "  </tr>\n",
    "  <tr>\n",
    "    <td>'q'</td>\n",
    "    <td>signed long long</td>\n",
    "    <td>int</td>\n",
    "    <td>8</td>\n",
    "  </tr>\n",
    "  <tr>\n",
    "    <td>'Q'</td>\n",
    "    <td>unsigned long long</td>\n",
    "    <td>int</td>\n",
    "    <td>8</td>\n",
    "  </tr>\n",
    "  <tr>\n",
    "    <td>'f'</td>\n",
    "    <td>float</td>\n",
    "    <td>float</td>\n",
    "    <td>4</td>\n",
    "  </tr>\n",
    "  <tr>\n",
    "    <td>'d'</td>\n",
    "    <td>double</td>\n",
    "    <td>float</td>\n",
    "    <td>8</td>\n",
    "  </tr>\n",
    "</table>\n"
   ]
  },
  {
   "cell_type": "markdown",
   "id": "451abc90",
   "metadata": {},
   "source": [
    "If we tried to include values that were not of i typecode, meaning they were not integer values then we would get an error:"
   ]
  },
  {
   "cell_type": "code",
   "execution_count": 52,
   "id": "7352fbfb",
   "metadata": {},
   "outputs": [
    {
     "ename": "TypeError",
     "evalue": "integer argument expected, got float",
     "output_type": "error",
     "traceback": [
      "\u001b[1;31m---------------------------------------------------------------------------\u001b[0m",
      "\u001b[1;31mTypeError\u001b[0m                                 Traceback (most recent call last)",
      "\u001b[1;32m~\\AppData\\Local\\Temp/ipykernel_15564/169642459.py\u001b[0m in \u001b[0;36m<module>\u001b[1;34m\u001b[0m\n\u001b[0;32m      2\u001b[0m \u001b[1;33m\u001b[0m\u001b[0m\n\u001b[0;32m      3\u001b[0m \u001b[1;31m#an array of floating point values\u001b[0m\u001b[1;33m\u001b[0m\u001b[1;33m\u001b[0m\u001b[1;33m\u001b[0m\u001b[0m\n\u001b[1;32m----> 4\u001b[1;33m \u001b[0mnumbers\u001b[0m \u001b[1;33m=\u001b[0m \u001b[0marray\u001b[0m\u001b[1;33m(\u001b[0m\u001b[1;34m'i'\u001b[0m\u001b[1;33m,\u001b[0m\u001b[1;33m[\u001b[0m\u001b[1;36m10.0\u001b[0m\u001b[1;33m,\u001b[0m\u001b[1;36m20.0\u001b[0m\u001b[1;33m,\u001b[0m\u001b[1;36m30.0\u001b[0m\u001b[1;33m]\u001b[0m\u001b[1;33m)\u001b[0m\u001b[1;33m\u001b[0m\u001b[1;33m\u001b[0m\u001b[0m\n\u001b[0m\u001b[0;32m      5\u001b[0m \u001b[1;33m\u001b[0m\u001b[0m\n\u001b[0;32m      6\u001b[0m \u001b[0mprint\u001b[0m\u001b[1;33m(\u001b[0m\u001b[0mnumbers\u001b[0m\u001b[1;33m)\u001b[0m\u001b[1;33m\u001b[0m\u001b[1;33m\u001b[0m\u001b[0m\n",
      "\u001b[1;31mTypeError\u001b[0m: integer argument expected, got float"
     ]
    }
   ],
   "source": [
    "from array import *\n",
    "\n",
    "#an array of floating point values\n",
    "numbers = array('i',[10.0,20.0,30.0])\n",
    "\n",
    "print(numbers)"
   ]
  },
  {
   "cell_type": "code",
   "execution_count": 53,
   "id": "b59fd35f",
   "metadata": {},
   "outputs": [
    {
     "name": "stdout",
     "output_type": "stream",
     "text": [
      "array('d', [10.0, 20.0, 30.0])\n"
     ]
    }
   ],
   "source": [
    "from array import *\n",
    "\n",
    "#an array of floating point values\n",
    "numbers = array('d',[10.0,20.0,30.0])\n",
    "\n",
    "print(numbers)"
   ]
  },
  {
   "cell_type": "code",
   "execution_count": 54,
   "id": "dd9bcae0",
   "metadata": {},
   "outputs": [
    {
     "data": {
      "text/plain": [
       "array('i', [10, 20, 30])"
      ]
     },
     "execution_count": 54,
     "metadata": {},
     "output_type": "execute_result"
    }
   ],
   "source": [
    "variable"
   ]
  },
  {
   "cell_type": "code",
   "execution_count": 56,
   "id": "d846861f",
   "metadata": {},
   "outputs": [
    {
     "data": {
      "text/plain": [
       "3"
      ]
     },
     "execution_count": 56,
     "metadata": {},
     "output_type": "execute_result"
    }
   ],
   "source": [
    "#  total number of elements in the array\n",
    "len(variable)"
   ]
  },
  {
   "cell_type": "code",
   "execution_count": 57,
   "id": "c83fbf37",
   "metadata": {},
   "outputs": [
    {
     "data": {
      "text/plain": [
       "20"
      ]
     },
     "execution_count": 57,
     "metadata": {},
     "output_type": "execute_result"
    }
   ],
   "source": [
    "# Access individual element\n",
    "variable[1]"
   ]
  },
  {
   "cell_type": "code",
   "execution_count": 58,
   "id": "50e45f0c",
   "metadata": {},
   "outputs": [
    {
     "data": {
      "text/plain": [
       "20"
      ]
     },
     "execution_count": 58,
     "metadata": {},
     "output_type": "execute_result"
    }
   ],
   "source": [
    "variable[-2]"
   ]
  },
  {
   "cell_type": "code",
   "execution_count": 59,
   "id": "a03e86a0",
   "metadata": {},
   "outputs": [
    {
     "data": {
      "text/plain": [
       "1"
      ]
     },
     "execution_count": 59,
     "metadata": {},
     "output_type": "execute_result"
    }
   ],
   "source": [
    "#  Find an element's index number\n",
    "variable.index(20)"
   ]
  },
  {
   "cell_type": "markdown",
   "id": "210645f8",
   "metadata": {},
   "source": [
    "If there is more than one element with the same value, the index of the first instance of the value will be returned:"
   ]
  },
  {
   "cell_type": "code",
   "execution_count": 60,
   "id": "2b56ee41",
   "metadata": {},
   "outputs": [
    {
     "name": "stdout",
     "output_type": "stream",
     "text": [
      "0\n"
     ]
    }
   ],
   "source": [
    "import array as arr \n",
    "\n",
    "numbers = arr.array('i',[10,20,30,10,20,30])\n",
    "\n",
    "#search for the index of the value 10\n",
    "#will return the index number of the first instance of the value 10\n",
    "print(numbers.index(10))"
   ]
  },
  {
   "cell_type": "code",
   "execution_count": 61,
   "id": "19b300c1",
   "metadata": {},
   "outputs": [
    {
     "name": "stdout",
     "output_type": "stream",
     "text": [
      "10\n",
      "20\n",
      "30\n",
      "10\n",
      "20\n",
      "30\n"
     ]
    }
   ],
   "source": [
    "#  print each value one by one\n",
    "for i in numbers:\n",
    "    print(i)"
   ]
  },
  {
   "cell_type": "code",
   "execution_count": 62,
   "id": "36a6d5b7",
   "metadata": {},
   "outputs": [
    {
     "data": {
      "text/plain": [
       "array('i', [11, 20, 30, 10, 20, 30])"
      ]
     },
     "execution_count": 62,
     "metadata": {},
     "output_type": "execute_result"
    }
   ],
   "source": [
    "# Change the Value of an Item\n",
    "numbers[0] = 11\n",
    "numbers"
   ]
  },
  {
   "cell_type": "code",
   "execution_count": 63,
   "id": "fff7650d",
   "metadata": {},
   "outputs": [
    {
     "data": {
      "text/plain": [
       "array('i', [11, 20, 30, 10, 20, 30, 12])"
      ]
     },
     "execution_count": 63,
     "metadata": {},
     "output_type": "execute_result"
    }
   ],
   "source": [
    "# Add a New Value to an Array\n",
    "numbers.append(12)\n",
    "numbers"
   ]
  },
  {
   "cell_type": "markdown",
   "id": "851cb446",
   "metadata": {},
   "source": [
    "So ever"
   ]
  }
 ],
 "metadata": {
  "kernelspec": {
   "display_name": "Python 3 (ipykernel)",
   "language": "python",
   "name": "python3"
  },
  "language_info": {
   "codemirror_mode": {
    "name": "ipython",
    "version": 3
   },
   "file_extension": ".py",
   "mimetype": "text/x-python",
   "name": "python",
   "nbconvert_exporter": "python",
   "pygments_lexer": "ipython3",
   "version": "3.9.6"
  }
 },
 "nbformat": 4,
 "nbformat_minor": 5
}
