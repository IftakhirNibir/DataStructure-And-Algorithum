{
 "cells": [
  {
   "cell_type": "markdown",
   "id": "dcb9fcf2",
   "metadata": {},
   "source": [
    "### Benefits of HashMaps \n",
    "HashMaps allow for search in O(1), whereas array/linked lists are O(1)  "
   ]
  },
  {
   "cell_type": "markdown",
   "id": "2031966b",
   "metadata": {},
   "source": [
    "A HashMap is created from an array through the use of a Hash function "
   ]
  },
  {
   "cell_type": "markdown",
   "id": "54bc4d91",
   "metadata": {},
   "source": [
    "In hash functions once they map data to a key, they can't change this key. This means that any key in a HashMap must always be immutable.     "
   ]
  },
  {
   "cell_type": "markdown",
   "id": "462b147c",
   "metadata": {},
   "source": [
    "### HashMaps Initializing "
   ]
  },
  {
   "cell_type": "code",
   "execution_count": 9,
   "id": "a99b56aa",
   "metadata": {},
   "outputs": [],
   "source": [
    "city_map = {} \n",
    "#Or, city_map = dict()"
   ]
  },
  {
   "cell_type": "markdown",
   "id": "2c6248d7",
   "metadata": {},
   "source": [
    "### Adding Data"
   ]
  },
  {
   "cell_type": "code",
   "execution_count": 10,
   "id": "1262709e",
   "metadata": {},
   "outputs": [],
   "source": [
    "cities = [\"Calgary\",\"Vancouver\",\"Toronto\"]"
   ]
  },
  {
   "cell_type": "code",
   "execution_count": 12,
   "id": "ca8503c7",
   "metadata": {},
   "outputs": [
    {
     "ename": "KeyError",
     "evalue": "'Canada'",
     "output_type": "error",
     "traceback": [
      "\u001b[1;31m---------------------------------------------------------------------------\u001b[0m",
      "\u001b[1;31mKeyError\u001b[0m                                  Traceback (most recent call last)",
      "\u001b[1;32m~\\AppData\\Local\\Temp/ipykernel_17592/728889399.py\u001b[0m in \u001b[0;36m<module>\u001b[1;34m\u001b[0m\n\u001b[1;32m----> 1\u001b[1;33m \u001b[0mcity_map\u001b[0m\u001b[1;33m[\u001b[0m\u001b[1;34m\"Canada\"\u001b[0m\u001b[1;33m]\u001b[0m\u001b[1;33m.\u001b[0m\u001b[0mappend\u001b[0m\u001b[1;33m(\u001b[0m\u001b[0mcities\u001b[0m\u001b[1;33m)\u001b[0m\u001b[1;33m\u001b[0m\u001b[1;33m\u001b[0m\u001b[0m\n\u001b[0m",
      "\u001b[1;31mKeyError\u001b[0m: 'Canada'"
     ]
    }
   ],
   "source": [
    "city_map[\"Canada\"].append(cities)"
   ]
  },
  {
   "cell_type": "markdown",
   "id": "57d4abeb",
   "metadata": {},
   "source": [
    "This is a very common mistake people make with HashMaps. We tried to assign 3 cities to the key of Canada, but that key doesn't exist in our HashMap yet. So  "
   ]
  },
  {
   "cell_type": "code",
   "execution_count": 13,
   "id": "1a63d75f",
   "metadata": {},
   "outputs": [],
   "source": [
    "city_map[\"Canada\"] = []\n",
    "city_map[\"Canada\"] += cities"
   ]
  },
  {
   "cell_type": "code",
   "execution_count": 14,
   "id": "61dc6c60",
   "metadata": {},
   "outputs": [
    {
     "data": {
      "text/plain": [
       "{'Canada': ['Calgary', 'Vancouver', 'Toronto']}"
      ]
     },
     "execution_count": 14,
     "metadata": {},
     "output_type": "execute_result"
    }
   ],
   "source": [
    "city_map"
   ]
  },
  {
   "cell_type": "markdown",
   "id": "811319e2",
   "metadata": {},
   "source": [
    "### Different approach "
   ]
  },
  {
   "cell_type": "code",
   "execution_count": 16,
   "id": "33716029",
   "metadata": {},
   "outputs": [],
   "source": [
    "from collections import defaultdict"
   ]
  },
  {
   "cell_type": "code",
   "execution_count": 18,
   "id": "88c34ad4",
   "metadata": {},
   "outputs": [
    {
     "data": {
      "text/plain": [
       "defaultdict(list, {'Canada': ['Calgary', 'Vancouver', 'Toronto']})"
      ]
     },
     "execution_count": 18,
     "metadata": {},
     "output_type": "execute_result"
    }
   ],
   "source": [
    "city_maps = defaultdict(list)\n",
    "cities = [\"Calgary\",\"Vancouver\",\"Toronto\"]\n",
    "city_maps['Canada'] += cities\n",
    "city_maps"
   ]
  },
  {
   "cell_type": "markdown",
   "id": "b96343eb",
   "metadata": {},
   "source": [
    "### Retrieving Data\n",
    "hashmap.keys() // returns all of the keys from the dictionary, in the form of a list<br> \n",
    "hashmap.values // returns all of the values from the dictionary, in the form of a list<br>\n",
    "hashmap.items() // returns all of the key value pairs as tuples()"
   ]
  },
  {
   "cell_type": "code",
   "execution_count": 1,
   "id": "646924a7",
   "metadata": {},
   "outputs": [],
   "source": [
    "hashmap = {'a':['aa','ab','ac','ad'],\n",
    "           'b':['ba','bb','bc','bd'],\n",
    "           'c':['ca','cb','cc','cd']}"
   ]
  },
  {
   "cell_type": "code",
   "execution_count": 2,
   "id": "d1264882",
   "metadata": {},
   "outputs": [
    {
     "data": {
      "text/plain": [
       "dict_values([['aa', 'ab', 'ac', 'ad'], ['ba', 'bb', 'bc', 'bd'], ['ca', 'cb', 'cc', 'cd']])"
      ]
     },
     "execution_count": 2,
     "metadata": {},
     "output_type": "execute_result"
    }
   ],
   "source": [
    "hashmap.values()"
   ]
  },
  {
   "cell_type": "code",
   "execution_count": 3,
   "id": "69bedd6e",
   "metadata": {},
   "outputs": [
    {
     "data": {
      "text/plain": [
       "dict_keys(['a', 'b', 'c'])"
      ]
     },
     "execution_count": 3,
     "metadata": {},
     "output_type": "execute_result"
    }
   ],
   "source": [
    "hashmap.keys()"
   ]
  },
  {
   "cell_type": "code",
   "execution_count": 4,
   "id": "f0ecdc81",
   "metadata": {},
   "outputs": [
    {
     "data": {
      "text/plain": [
       "dict_items([('a', ['aa', 'ab', 'ac', 'ad']), ('b', ['ba', 'bb', 'bc', 'bd']), ('c', ['ca', 'cb', 'cc', 'cd'])])"
      ]
     },
     "execution_count": 4,
     "metadata": {},
     "output_type": "execute_result"
    }
   ],
   "source": [
    "hashmap.items()"
   ]
  },
  {
   "cell_type": "markdown",
   "id": "9c93f2bc",
   "metadata": {},
   "source": [
    "### Note\n",
    "if we are not append just assign then it just change that keys value. For example "
   ]
  },
  {
   "cell_type": "code",
   "execution_count": 65,
   "id": "9adbee99",
   "metadata": {},
   "outputs": [],
   "source": [
    "abc = defaultdict(list)\n",
    "abc['ab'] = [\"xy\"]"
   ]
  },
  {
   "cell_type": "code",
   "execution_count": 66,
   "id": "fe75e1f8",
   "metadata": {},
   "outputs": [
    {
     "name": "stdout",
     "output_type": "stream",
     "text": [
      "defaultdict(<class 'list'>, {'ab': ['xy']})\n"
     ]
    }
   ],
   "source": [
    "print(abc)\n",
    "abc['ab'] = [\"yz\"]"
   ]
  },
  {
   "cell_type": "code",
   "execution_count": 67,
   "id": "2fa72088",
   "metadata": {},
   "outputs": [
    {
     "name": "stdout",
     "output_type": "stream",
     "text": [
      "defaultdict(<class 'list'>, {'ab': ['yz']})\n"
     ]
    }
   ],
   "source": [
    "print(abc)"
   ]
  },
  {
   "cell_type": "markdown",
   "id": "1d007d17",
   "metadata": {},
   "source": [
    "But if we append or add values then extra value will added in that keys"
   ]
  },
  {
   "cell_type": "code",
   "execution_count": 68,
   "id": "70125afe",
   "metadata": {},
   "outputs": [
    {
     "name": "stdout",
     "output_type": "stream",
     "text": [
      "defaultdict(<class 'list'>, {'ab': ['yz', 'xy']})\n"
     ]
    }
   ],
   "source": [
    "abc['ab'] += [\"xy\"]\n",
    "print(abc)"
   ]
  },
  {
   "cell_type": "markdown",
   "id": "78c5e17d",
   "metadata": {},
   "source": [
    "### Dictionary"
   ]
  },
  {
   "cell_type": "code",
   "execution_count": 5,
   "id": "05897fbb",
   "metadata": {},
   "outputs": [],
   "source": [
    "person = {\n",
    "    \"name\": \"Abdulla Asif\",\n",
    "    \"age\" : 18,\n",
    "    \"grades\" : {\"ENG\": 45, \"CSE\": 75, \"MATH\": 95}\n",
    "}"
   ]
  },
  {
   "cell_type": "code",
   "execution_count": 3,
   "id": "4e380f47",
   "metadata": {},
   "outputs": [
    {
     "data": {
      "text/plain": [
       "'Abdulla Asif'"
      ]
     },
     "execution_count": 3,
     "metadata": {},
     "output_type": "execute_result"
    }
   ],
   "source": [
    "#Finding Name\n",
    "person[\"name\"]"
   ]
  },
  {
   "cell_type": "code",
   "execution_count": 5,
   "id": "0e1cb117",
   "metadata": {},
   "outputs": [
    {
     "data": {
      "text/plain": [
       "75"
      ]
     },
     "execution_count": 5,
     "metadata": {},
     "output_type": "execute_result"
    }
   ],
   "source": [
    "#Finding CSE grade\n",
    "person[\"grades\"]['CSE']"
   ]
  },
  {
   "cell_type": "code",
   "execution_count": 17,
   "id": "20e5aaf5",
   "metadata": {},
   "outputs": [
    {
     "name": "stdout",
     "output_type": "stream",
     "text": [
      "name Abdulla Asif\n",
      "age 18\n",
      "grades {'ENG': 45, 'CSE': 75, 'MATH': 95}\n"
     ]
    }
   ],
   "source": [
    "#Printing everything\n",
    "for key, value in person.items():\n",
    "    print(key, value)"
   ]
  },
  {
   "cell_type": "code",
   "execution_count": 6,
   "id": "efd32edc",
   "metadata": {},
   "outputs": [
    {
     "data": {
      "text/plain": [
       "'Abdulla Asif'"
      ]
     },
     "execution_count": 6,
     "metadata": {},
     "output_type": "execute_result"
    }
   ],
   "source": [
    "person.get('name')"
   ]
  },
  {
   "cell_type": "markdown",
   "id": "daf6342b",
   "metadata": {},
   "source": [
    "So we can use get() to take the 'value' from the 'key'"
   ]
  },
  {
   "cell_type": "markdown",
   "id": "42f936ba",
   "metadata": {},
   "source": [
    "### Finding even , odd from a list using diction"
   ]
  },
  {
   "cell_type": "code",
   "execution_count": 6,
   "id": "c5633609",
   "metadata": {},
   "outputs": [
    {
     "name": "stdout",
     "output_type": "stream",
     "text": [
      "1 This is odd number\n",
      "2 This is even number\n",
      "3 This is odd number\n",
      "4 This is even number\n",
      "5 This is odd number\n",
      "6 This is even number\n",
      "7 This is odd number\n",
      "8 This is even number\n",
      "9 This is odd number\n",
      "10 This is even number\n"
     ]
    }
   ],
   "source": [
    "#Brute force approch \n",
    "num = [1,2,3,4,5,6,7,8,9,10]\n",
    "for i in num:\n",
    "    if i%2==0:\n",
    "        print(i, \"This is even number\")\n",
    "    else:\n",
    "        print(i, \"This is odd number\")"
   ]
  },
  {
   "cell_type": "code",
   "execution_count": 16,
   "id": "b127996c",
   "metadata": {},
   "outputs": [
    {
     "data": {
      "text/plain": [
       "defaultdict(list, {'Odd': [1, 3, 5, 7, 9], 'Even': [2, 4, 6, 8, 10]})"
      ]
     },
     "execution_count": 16,
     "metadata": {},
     "output_type": "execute_result"
    }
   ],
   "source": [
    "num = [1,2,3,4,5,6,7,8,9,10]\n",
    "\n",
    "from collections import defaultdict\n",
    "dictt = defaultdict(list)\n",
    "for i in num:\n",
    "    if i%2==0:\n",
    "        dictt[\"Even\"].append(i)\n",
    "    else:\n",
    "        dictt[\"Odd\"].append(i)\n",
    "\n",
    "dictt"
   ]
  },
  {
   "cell_type": "code",
   "execution_count": 15,
   "id": "31886351",
   "metadata": {},
   "outputs": [
    {
     "data": {
      "text/plain": [
       "{'Odd': [1, 3, 5, 7, 9], 'Even': [2, 4, 6, 8, 10]}"
      ]
     },
     "execution_count": 15,
     "metadata": {},
     "output_type": "execute_result"
    }
   ],
   "source": [
    "dict(dictt)"
   ]
  },
  {
   "cell_type": "markdown",
   "id": "7958d723",
   "metadata": {},
   "source": [
    "This is just a example. We are not consider about efficiency. "
   ]
  },
  {
   "cell_type": "code",
   "execution_count": 7,
   "id": "9b41ab27",
   "metadata": {},
   "outputs": [
    {
     "name": "stdout",
     "output_type": "stream",
     "text": [
      "All keys\n",
      "Dave\n",
      "Ava\n",
      "Joe\n",
      "All values\n",
      "001\n",
      "002\n",
      "003\n",
      "All keys and values\n",
      "Dave : 001\n",
      "Ava : 002\n",
      "Joe : 003\n"
     ]
    }
   ],
   "source": [
    "my_dict={'Dave' : '001' , 'Ava': '002' , 'Joe': '003'}\n",
    "print(\"All keys\")\n",
    "for x in my_dict:\n",
    "    print(x)       #prints the keys\n",
    "print(\"All values\")\n",
    "for x in my_dict.values():\n",
    "    print(x)       #prints values\n",
    "print(\"All keys and values\")\n",
    "for x,y in my_dict.items():\n",
    "    print(x, \":\" , y)       #prints keys and values"
   ]
  },
  {
   "cell_type": "code",
   "execution_count": 8,
   "id": "a93102e7",
   "metadata": {},
   "outputs": [
    {
     "name": "stdout",
     "output_type": "stream",
     "text": [
      "{'Joe': '003'}\n"
     ]
    }
   ],
   "source": [
    "my_dict={'Dave': '004', 'Ava': '002', 'Joe': '003', 'Chris': '005'}\n",
    "del my_dict['Dave']  #removes key-value pair of 'Dave'\n",
    "my_dict.pop('Ava')   #removes the value of 'Ava'\n",
    "my_dict.popitem()    #removes the last inserted item\n",
    "print(my_dict)"
   ]
  }
 ],
 "metadata": {
  "kernelspec": {
   "display_name": "Python 3 (ipykernel)",
   "language": "python",
   "name": "python3"
  },
  "language_info": {
   "codemirror_mode": {
    "name": "ipython",
    "version": 3
   },
   "file_extension": ".py",
   "mimetype": "text/x-python",
   "name": "python",
   "nbconvert_exporter": "python",
   "pygments_lexer": "ipython3",
   "version": "3.9.6"
  }
 },
 "nbformat": 4,
 "nbformat_minor": 5
}
